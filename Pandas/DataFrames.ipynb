{
 "cells": [
  {
   "cell_type": "markdown",
   "id": "5dcbed93-4c53-4f11-8a18-3ff14b0c7fb6",
   "metadata": {},
   "source": [
    "# Creating Dataframes"
   ]
  },
  {
   "cell_type": "code",
   "execution_count": 1,
   "id": "25790700-e70c-4876-b309-f993fe139ae4",
   "metadata": {},
   "outputs": [],
   "source": [
    "import pandas as pd"
   ]
  },
  {
   "cell_type": "code",
   "execution_count": 4,
   "id": "099c8c78-e3e6-48df-bbc1-ee3874332e4e",
   "metadata": {},
   "outputs": [
    {
     "name": "stdout",
     "output_type": "stream",
     "text": [
      "    Name  Age\n",
      "A  Alice   25\n",
      "B   John   30\n",
      "C   Kane   40\n",
      "    Name       Country\n",
      "X  Smith     Australia\n",
      "Y  David  South Africa\n",
      "Z   Will           USA\n",
      "   A  B\n",
      "0  1  2\n",
      "1  3  4\n"
     ]
    }
   ],
   "source": [
    "# From Python Lists\n",
    "data1 = [\n",
    "    [\"Alice\", 25],\n",
    "    [\"John\", 30],\n",
    "    [\"Kane\", 40]\n",
    "]\n",
    "df = pd.DataFrame(data1, columns = [\"Name\", \"Age\"], index = [\"A\", \"B\", \"C\"])\n",
    "print(df)\n",
    "\n",
    "# From Dictionary of Lists\n",
    "data2= {\n",
    "    \"Name\" : [\"Smith\", \"David\", \"Will\"],\n",
    "    \"Country\" : [\"Australia\", \"South Africa\", \"USA\"]\n",
    "}\n",
    "df = pd.DataFrame(data2, index = [\"X\", \"Y\", \"Z\"])\n",
    "print(df)\n",
    "\n",
    "# From NumPy Arrays\n",
    "import numpy as np\n",
    "arr = np.array([[1, 2], [3, 4]])\n",
    "df = pd.DataFrame(arr, columns = [\"A\", \"B\"])\n",
    "print(df)"
   ]
  },
  {
   "cell_type": "markdown",
   "id": "21efb1ef-78ac-48c7-a83d-c6989ed50cbc",
   "metadata": {},
   "source": [
    "# Reading CSV Files"
   ]
  },
  {
   "cell_type": "code",
   "execution_count": 5,
   "id": "bb90a9fa-4ff9-42d9-b8e7-00565ddf9455",
   "metadata": {},
   "outputs": [
    {
     "name": "stdout",
     "output_type": "stream",
     "text": [
      "                           Hero  Movies      Period\n",
      "S.No                                               \n",
      "Shah Rukh Khan          Pathaan    2023      Action\n",
      "Salman Khan     Tiger Zinda Hai    2017      Action\n",
      "Aamir Khan               Dangal    2016   Biography\n",
      "Ranbir Kapoor        Brahmastra    2022     Fantasy\n",
      "Ranveer Singh         Padmaavat    2018  Historical\n"
     ]
    }
   ],
   "source": [
    "df = pd.read_csv(\"data.csv\",\n",
    "    sep = ',',\n",
    "    header = 0,  \n",
    "    names = ['S.No', 'Hero', 'Movies', 'Period'],  \n",
    "    usecols = ['S.No', 'Hero', 'Movies', 'Period'],\n",
    "    index_col = 'S.No',\n",
    "    nrows = 5\n",
    ")\n",
    "print(df)"
   ]
  }
 ],
 "metadata": {
  "kernelspec": {
   "display_name": "Python [conda env:base] *",
   "language": "python",
   "name": "conda-base-py"
  },
  "language_info": {
   "codemirror_mode": {
    "name": "ipython",
    "version": 3
   },
   "file_extension": ".py",
   "mimetype": "text/x-python",
   "name": "python",
   "nbconvert_exporter": "python",
   "pygments_lexer": "ipython3",
   "version": "3.12.4"
  }
 },
 "nbformat": 4,
 "nbformat_minor": 5
}
