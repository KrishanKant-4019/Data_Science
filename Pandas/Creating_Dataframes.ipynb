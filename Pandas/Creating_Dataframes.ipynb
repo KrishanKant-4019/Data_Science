{
 "cells": [
  {
   "cell_type": "markdown",
   "id": "d03040b9-dea3-4428-be72-f1389d3fb282",
   "metadata": {},
   "source": [
    "# Creating Dataframes"
   ]
  },
  {
   "cell_type": "code",
   "execution_count": 3,
   "id": "9bf44065-2ec2-46ea-b454-c84002fe6555",
   "metadata": {},
   "outputs": [],
   "source": [
    "import pandas as pd"
   ]
  },
  {
   "cell_type": "code",
   "execution_count": 4,
   "id": "099c8c78-e3e6-48df-bbc1-ee3874332e4e",
   "metadata": {},
   "outputs": [
    {
     "name": "stdout",
     "output_type": "stream",
     "text": [
      "    Name  Age\n",
      "A  Alice   25\n",
      "B   John   30\n",
      "C   Kane   40\n",
      "    Name       Country\n",
      "X  Smith     Australia\n",
      "Y  David  South Africa\n",
      "Z   Will           USA\n",
      "   A  B\n",
      "M  1  2\n",
      "N  3  4\n"
     ]
    }
   ],
   "source": [
    "# From Python Lists\n",
    "data1 = [\n",
    "    [\"Alice\",25],\n",
    "    [\"John\",30],\n",
    "    [\"Kane\",40]\n",
    "]\n",
    "df = pd.DataFrame(data1, columns = [\"Name\",\"Age\"], index = [\"A\",\"B\",\"C\"])\n",
    "print(df)\n",
    "\n",
    "# From Dictionary of Lists\n",
    "data2 = {\n",
    "    \"Name\" : [\"Smith\", \"David\", \"Will\"],\n",
    "    \"Country\" : [\"Australia\", \"South Africa\", \"USA\"]\n",
    "}\n",
    "df = pd.DataFrame(data2, index = [\"X\", \"Y\", \"Z\"])\n",
    "print(df)\n",
    "\n",
    "# From NumPy Arrays\n",
    "import numpy as np\n",
    "arr = np.array([[1, 2], [3, 4]])\n",
    "df = pd.DataFrame(arr, columns = [\"A\", \"B\"], index = ['M', 'N'])\n",
    "print(df)"
   ]
  },
  {
   "cell_type": "markdown",
   "id": "ca01983e-6e3c-4791-94ef-73f58b95d85d",
   "metadata": {},
   "source": [
    "# Reading CSV Files"
   ]
  },
  {
   "cell_type": "code",
   "execution_count": 6,
   "id": "bb90a9fa-4ff9-42d9-b8e7-00565ddf9455",
   "metadata": {},
   "outputs": [],
   "source": [
    "df = pd.read_csv(\"data.csv\",              # Load CSV file\n",
    "    sep = ',',                              # Use comma as separator\n",
    "    header = 0,                             # First row as header\n",
    "    names = ['S.No', 'Hero', 'Movies', 'Period'],  # Column names (ignored since header=0)\n",
    "    usecols = ['S.No', 'Hero', 'Movies', 'Period'],  # Load selected columns\n",
    "    index_col = 'S.No',                     # Set 'S.No' as index\n",
    "    nrows = 5                               # Read first 5 rows\n",
    ")"
   ]
  },
  {
   "cell_type": "code",
   "execution_count": 7,
   "id": "cef803ee-80bc-4044-97bb-ed19c27d676e",
   "metadata": {},
   "outputs": [
    {
     "data": {
      "text/html": [
       "<div>\n",
       "<style scoped>\n",
       "    .dataframe tbody tr th:only-of-type {\n",
       "        vertical-align: middle;\n",
       "    }\n",
       "\n",
       "    .dataframe tbody tr th {\n",
       "        vertical-align: top;\n",
       "    }\n",
       "\n",
       "    .dataframe thead th {\n",
       "        text-align: right;\n",
       "    }\n",
       "</style>\n",
       "<table border=\"1\" class=\"dataframe\">\n",
       "  <thead>\n",
       "    <tr style=\"text-align: right;\">\n",
       "      <th></th>\n",
       "      <th>Hero</th>\n",
       "      <th>Movies</th>\n",
       "      <th>Period</th>\n",
       "    </tr>\n",
       "    <tr>\n",
       "      <th>S.No</th>\n",
       "      <th></th>\n",
       "      <th></th>\n",
       "      <th></th>\n",
       "    </tr>\n",
       "  </thead>\n",
       "  <tbody>\n",
       "    <tr>\n",
       "      <th>Shah Rukh Khan</th>\n",
       "      <td>Pathaan</td>\n",
       "      <td>2023</td>\n",
       "      <td>Action</td>\n",
       "    </tr>\n",
       "    <tr>\n",
       "      <th>Salman Khan</th>\n",
       "      <td>Tiger Zinda Hai</td>\n",
       "      <td>2017</td>\n",
       "      <td>Action</td>\n",
       "    </tr>\n",
       "    <tr>\n",
       "      <th>Aamir Khan</th>\n",
       "      <td>Dangal</td>\n",
       "      <td>2016</td>\n",
       "      <td>Biography</td>\n",
       "    </tr>\n",
       "    <tr>\n",
       "      <th>Ranbir Kapoor</th>\n",
       "      <td>Brahmastra</td>\n",
       "      <td>2022</td>\n",
       "      <td>Fantasy</td>\n",
       "    </tr>\n",
       "    <tr>\n",
       "      <th>Ranveer Singh</th>\n",
       "      <td>Padmaavat</td>\n",
       "      <td>2018</td>\n",
       "      <td>Historical</td>\n",
       "    </tr>\n",
       "  </tbody>\n",
       "</table>\n",
       "</div>"
      ],
      "text/plain": [
       "                           Hero  Movies      Period\n",
       "S.No                                               \n",
       "Shah Rukh Khan          Pathaan    2023      Action\n",
       "Salman Khan     Tiger Zinda Hai    2017      Action\n",
       "Aamir Khan               Dangal    2016   Biography\n",
       "Ranbir Kapoor        Brahmastra    2022     Fantasy\n",
       "Ranveer Singh         Padmaavat    2018  Historical"
      ]
     },
     "execution_count": 7,
     "metadata": {},
     "output_type": "execute_result"
    }
   ],
   "source": [
    "df"
   ]
  }
 ],
 "metadata": {
  "kernelspec": {
   "display_name": "Python [conda env:base] *",
   "language": "python",
   "name": "conda-base-py"
  },
  "language_info": {
   "codemirror_mode": {
    "name": "ipython",
    "version": 3
   },
   "file_extension": ".py",
   "mimetype": "text/x-python",
   "name": "python",
   "nbconvert_exporter": "python",
   "pygments_lexer": "ipython3",
   "version": "3.12.4"
  }
 },
 "nbformat": 4,
 "nbformat_minor": 5
}
