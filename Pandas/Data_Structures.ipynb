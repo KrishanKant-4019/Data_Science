{
 "cells": [
  {
   "cell_type": "markdown",
   "id": "908e1b1d-7af9-4644-8933-a3dbc5d14a32",
   "metadata": {},
   "source": [
    "# Series — 1D Labeled Array"
   ]
  },
  {
   "cell_type": "code",
   "execution_count": 2,
   "id": "e099a8ff-df10-42ca-82a7-ee24a5e9d669",
   "metadata": {},
   "outputs": [
    {
     "name": "stdout",
     "output_type": "stream",
     "text": [
      "0    1\n",
      "1    2\n",
      "2    3\n",
      "3    4\n",
      "4    5\n",
      "dtype: int64\n",
      "a    1\n",
      "b    2\n",
      "c    3\n",
      "d    4\n",
      "e    5\n",
      "dtype: int64\n"
     ]
    }
   ],
   "source": [
    "import pandas as pd\n",
    "s = pd.Series([1, 2, 3, 4, 5])\n",
    "print(s)\n",
    "\n",
    "# Custom Indexing\n",
    "s = pd.Series([1, 2, 3, 4, 5], index = [\"a\", \"b\", \"c\", \"d\", \"e\"])\n",
    "print(s)"
   ]
  },
  {
   "cell_type": "markdown",
   "id": "3e595397-a61c-4e94-8ace-c7431993aa17",
   "metadata": {},
   "source": [
    "# DataFrame — 2D Labeled Table"
   ]
  },
  {
   "cell_type": "code",
   "execution_count": 3,
   "id": "aebb62e6-cab1-4afc-bc7a-fd53f2704f39",
   "metadata": {},
   "outputs": [
    {
     "name": "stdout",
     "output_type": "stream",
     "text": [
      "      name  age         city\n",
      "0    Divya   60  Los Angeles\n",
      "1  Devansh   65   Wellington\n",
      "2   Hemant   70     Auckland\n",
      "RangeIndex(start=0, stop=3, step=1)\n",
      "Index(['name', 'age', 'city'], dtype='object')\n",
      "      Name  Age         City\n",
      "A    Divya   60  Los Angeles\n",
      "B  Devansh   65   Wellington\n",
      "C   Hemant   70     Auckland\n"
     ]
    }
   ],
   "source": [
    "data = {\n",
    "    \"name\" : [\"Divya\", \"Devansh\", \"Hemant\"],\n",
    "    \"age\" : [60, 65, 70],\n",
    "    \"city\" : [\"Los Angeles\", \"Wellington\", \"Auckland\"]\n",
    "}\n",
    "df = pd.DataFrame(data)\n",
    "print(df)\n",
    "print(df.index)\n",
    "print(df.columns)\n",
    "\n",
    "# Changing index and columns\n",
    "df.index = [\"A\", \"B\", \"C\"]\n",
    "df.columns = [\"Name\", \"Age\", \"City\"]\n",
    "print(df)"
   ]
  }
 ],
 "metadata": {
  "kernelspec": {
   "display_name": "Python [conda env:base] *",
   "language": "python",
   "name": "conda-base-py"
  },
  "language_info": {
   "codemirror_mode": {
    "name": "ipython",
    "version": 3
   },
   "file_extension": ".py",
   "mimetype": "text/x-python",
   "name": "python",
   "nbconvert_exporter": "python",
   "pygments_lexer": "ipython3",
   "version": "3.12.4"
  }
 },
 "nbformat": 4,
 "nbformat_minor": 5
}
