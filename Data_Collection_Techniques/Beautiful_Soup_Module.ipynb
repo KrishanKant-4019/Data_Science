{
 "cells": [
  {
   "cell_type": "markdown",
   "id": "4364d76c-b699-4377-97c5-c0a93e0378d8",
   "metadata": {},
   "source": [
    "# Creating a BeautifulSoup Object"
   ]
  },
  {
   "cell_type": "code",
   "execution_count": 4,
   "id": "7ab9a780-0a2f-4eec-8851-c122cce222a9",
   "metadata": {},
   "outputs": [],
   "source": [
    "from bs4 import BeautifulSoup"
   ]
  },
  {
   "cell_type": "code",
   "execution_count": 8,
   "id": "910332a1-aa7a-49d7-a403-f1e011f8d1e5",
   "metadata": {},
   "outputs": [],
   "source": [
    "with open (\"HTML/page1.html\") as f:\n",
    "    content = f.read()"
   ]
  },
  {
   "cell_type": "code",
   "execution_count": 9,
   "id": "d7d7c0f4-67cc-4d6a-96ef-bc9058d19e7e",
   "metadata": {},
   "outputs": [],
   "source": [
    "soup = BeautifulSoup(content, \"html.parser\")"
   ]
  },
  {
   "cell_type": "code",
   "execution_count": 14,
   "id": "65e69dfd-04fb-4934-ad73-430fc7c01426",
   "metadata": {},
   "outputs": [],
   "source": [
    "articles = soup.select(\"article.product_pod\")"
   ]
  },
  {
   "cell_type": "code",
   "execution_count": 18,
   "id": "0438587a-5892-4470-b1e9-00d477ae186f",
   "metadata": {},
   "outputs": [],
   "source": [
    "for article in articles:\n",
    "    title = article.find(\"h3\").find(\"a\")[\"title\"]"
   ]
  }
 ],
 "metadata": {
  "kernelspec": {
   "display_name": "Python [conda env:base] *",
   "language": "python",
   "name": "conda-base-py"
  },
  "language_info": {
   "codemirror_mode": {
    "name": "ipython",
    "version": 3
   },
   "file_extension": ".py",
   "mimetype": "text/x-python",
   "name": "python",
   "nbconvert_exporter": "python",
   "pygments_lexer": "ipython3",
   "version": "3.12.4"
  }
 },
 "nbformat": 4,
 "nbformat_minor": 5
}
