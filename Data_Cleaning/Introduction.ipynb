{
 "cells": [
  {
   "cell_type": "code",
   "execution_count": null,
   "id": "ee0c06f3-eb9d-49ad-946c-c30471c03f5c",
   "metadata": {},
   "outputs": [],
   "source": [
    "#Starting of data science journey from this project."
   ]
  },
  {
   "cell_type": "code",
   "execution_count": 6,
   "id": "ec239fae-16e5-4b2a-becc-d8e01b923cd8",
   "metadata": {},
   "outputs": [],
   "source": [
    "import json"
   ]
  },
  {
   "cell_type": "code",
   "execution_count": 8,
   "id": "39374a09-fd5a-45c9-bc20-e489dc32d7c8",
   "metadata": {},
   "outputs": [],
   "source": [
    "# Load the JSON file\n",
    "def load_data(filename):\n",
    "    with open(filename, 'r') as f:  \n",
    "        data = json.load(f)\n",
    "    return data"
   ]
  },
  {
   "cell_type": "code",
   "execution_count": 10,
   "id": "7df69d1f-09fb-439b-b010-c603bc30f7f8",
   "metadata": {},
   "outputs": [],
   "source": [
    "data = load_data(\"codebook_data.json\")"
   ]
  },
  {
   "cell_type": "code",
   "execution_count": null,
   "id": "62434835-1744-4a77-8bab-1d98a73d75e0",
   "metadata": {},
   "outputs": [],
   "source": [
    "data"
   ]
  },
  {
   "cell_type": "code",
   "execution_count": 13,
   "id": "ec975712-b4cb-4a01-b094-698541308821",
   "metadata": {},
   "outputs": [
    {
     "name": "stdout",
     "output_type": "stream",
     "text": [
      "Users and Their Connections:\n",
      "\n",
      "Amit (ID: 1) - Friends: [2, 3] - Liked Pages: [101]\n",
      "Priya (ID: 2) - Friends: [1, 4] - Liked Pages: [102]\n",
      "Rahul (ID: 3) - Friends: [1] - Liked Pages: [101, 103]\n",
      "Sara (ID: 4) - Friends: [2] - Liked Pages: [104]\n",
      "\n",
      "Pages:\n",
      "\n",
      "101: Python Developers\n",
      "102: Data Science Enthusiasts\n",
      "103: AI & ML Community\n",
      "104: Web Dev Hub\n"
     ]
    }
   ],
   "source": [
    "#Display users and their connections\n",
    "def display_users(data):\n",
    "    print(\"Users and Their Connections:\\n\")\n",
    "    for user in data[\"users\"]:\n",
    "        print(f\"{user['name']} (ID: {user['id']}) - Friends: {user['friends']} - Liked Pages: {user['liked_pages']}\")\n",
    "    print(\"\\nPages:\\n\")\n",
    "    for page in data[\"pages\"]:\n",
    "        print(f\"{page['id']}: {page['name']}\")\n",
    " \n",
    "#Display the data\n",
    "display_users(data)"
   ]
  },
  {
   "cell_type": "code",
   "execution_count": null,
   "id": "c2ecc30e-5d7a-4e04-b3ab-0aad95c5127a",
   "metadata": {},
   "outputs": [],
   "source": []
  }
 ],
 "metadata": {
  "kernelspec": {
   "display_name": "Python [conda env:base] *",
   "language": "python",
   "name": "conda-base-py"
  },
  "language_info": {
   "codemirror_mode": {
    "name": "ipython",
    "version": 3
   },
   "file_extension": ".py",
   "mimetype": "text/x-python",
   "name": "python",
   "nbconvert_exporter": "python",
   "pygments_lexer": "ipython3",
   "version": "3.12.4"
  }
 },
 "nbformat": 4,
 "nbformat_minor": 5
}
