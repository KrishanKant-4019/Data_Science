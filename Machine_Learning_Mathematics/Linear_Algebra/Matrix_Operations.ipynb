{
 "cells": [
  {
   "cell_type": "code",
   "execution_count": 1,
   "id": "45151c40-2bca-4995-aca5-3e81b0b4408d",
   "metadata": {},
   "outputs": [],
   "source": [
    "import numpy as np"
   ]
  },
  {
   "cell_type": "markdown",
   "id": "654bf6d2-8204-4982-b1cc-a564d74451aa",
   "metadata": {},
   "source": [
    "# Creation of a Matrix"
   ]
  },
  {
   "cell_type": "code",
   "execution_count": 2,
   "id": "68bf5b02-bce2-4548-9783-e68b950dde15",
   "metadata": {},
   "outputs": [
    {
     "name": "stdout",
     "output_type": "stream",
     "text": [
      "[[2 4]\n",
      " [5 6]]\n"
     ]
    }
   ],
   "source": [
    "matrix_1 = np.array([[2, 4], [5, 6]])\n",
    "print(matrix_1)"
   ]
  },
  {
   "cell_type": "code",
   "execution_count": 3,
   "id": "258f6a75-cef2-4605-b5a3-3af48891a5b6",
   "metadata": {},
   "outputs": [
    {
     "data": {
      "text/plain": [
       "(2, 2)"
      ]
     },
     "execution_count": 3,
     "metadata": {},
     "output_type": "execute_result"
    }
   ],
   "source": [
    "matrix_1.shape"
   ]
  },
  {
   "cell_type": "code",
   "execution_count": 5,
   "id": "9f0b8134-b917-49b4-8529-ee978e4c4bdb",
   "metadata": {},
   "outputs": [
    {
     "name": "stdout",
     "output_type": "stream",
     "text": [
      "[[10 20 30]\n",
      " [40 50 60]\n",
      " [70 80 90]]\n"
     ]
    }
   ],
   "source": [
    "matrix_2 = np.array([[10, 20, 30], [40, 50, 60], [70, 80, 90]])\n",
    "print(matrix_2)"
   ]
  },
  {
   "cell_type": "code",
   "execution_count": 6,
   "id": "7b9714e8-c3f7-4cad-8158-63a3ba0d0911",
   "metadata": {},
   "outputs": [
    {
     "data": {
      "text/plain": [
       "(3, 3)"
      ]
     },
     "execution_count": 6,
     "metadata": {},
     "output_type": "execute_result"
    }
   ],
   "source": [
    "matrix_2.shape"
   ]
  },
  {
   "cell_type": "code",
   "execution_count": 7,
   "id": "9d2fef05-281a-4168-9082-60fbac42728a",
   "metadata": {},
   "outputs": [
    {
     "name": "stdout",
     "output_type": "stream",
     "text": [
      "[[0.26348517 0.07256219 0.33831528]\n",
      " [0.78721793 0.38643834 0.85563199]\n",
      " [0.99316943 0.3585889  0.71889772]]\n"
     ]
    }
   ],
   "source": [
    "random_matrix = np.random.rand(3, 3)\n",
    "print(random_matrix)"
   ]
  },
  {
   "cell_type": "code",
   "execution_count": 9,
   "id": "7f28079c-be1b-44b3-8bd3-2e2262def54a",
   "metadata": {},
   "outputs": [
    {
     "name": "stdout",
     "output_type": "stream",
     "text": [
      "[[26 22 84 49 10]\n",
      " [ 6 33 83 31 30]\n",
      " [92  2 17 12  3]\n",
      " [14 37 65 94 13]]\n"
     ]
    }
   ],
   "source": [
    "random_integer_matrix = np.random.randint(1, 100, size = (4, 5))\n",
    "print(random_integer_matrix)"
   ]
  },
  {
   "cell_type": "code",
   "execution_count": 13,
   "id": "97c1e8fd-98ff-4e3c-ad99-6543ab52fac7",
   "metadata": {},
   "outputs": [
    {
     "name": "stdout",
     "output_type": "stream",
     "text": [
      "[[1 1 1]\n",
      " [1 1 1]]\n"
     ]
    }
   ],
   "source": [
    "matrix_3 = np.ones((2, 3), dtype = 'int')\n",
    "print(matrix_3)"
   ]
  },
  {
   "cell_type": "code",
   "execution_count": 16,
   "id": "0d758b2e-d8f8-4c38-bdaf-55b3e0d24779",
   "metadata": {},
   "outputs": [
    {
     "name": "stdout",
     "output_type": "stream",
     "text": [
      "[[0 0 0]\n",
      " [0 0 0]]\n"
     ]
    }
   ],
   "source": [
    "null_matrix = np.zeros((2, 3), dtype = 'int')\n",
    "print(null_matrix)"
   ]
  },
  {
   "cell_type": "code",
   "execution_count": 20,
   "id": "a96b644c-cc16-43ea-b22f-00001da60eed",
   "metadata": {},
   "outputs": [
    {
     "name": "stdout",
     "output_type": "stream",
     "text": [
      "[[1 0 0]\n",
      " [0 1 0]\n",
      " [0 0 1]]\n"
     ]
    }
   ],
   "source": [
    "identity_matrix = np.eye(3, 3, dtype = 'int')\n",
    "print(identity_matrix)"
   ]
  },
  {
   "cell_type": "markdown",
   "id": "818ca43f-a3f8-4b7a-9dc3-934b9f1e6428",
   "metadata": {},
   "source": [
    "# Transpose of a Matrix"
   ]
  },
  {
   "cell_type": "code",
   "execution_count": 22,
   "id": "fefbdbcc-e5b1-4117-b386-9ca40b17945c",
   "metadata": {},
   "outputs": [
    {
     "name": "stdout",
     "output_type": "stream",
     "text": [
      "[[86 75 34 47 15 83]\n",
      " [92 27 56 18 87 40]\n",
      " [41 38 77 39 75 40]\n",
      " [79 12 81 86 95 67]\n",
      " [89 53 44 41 72 42]]\n"
     ]
    }
   ],
   "source": [
    "a = np.random.randint(1, 100, size = (5, 6))\n",
    "print(a)"
   ]
  },
  {
   "cell_type": "code",
   "execution_count": 23,
   "id": "aedf3a41-eb85-40e9-a284-14d7fc9dcb2c",
   "metadata": {},
   "outputs": [
    {
     "name": "stdout",
     "output_type": "stream",
     "text": [
      "[[86 92 41 79 89]\n",
      " [75 27 38 12 53]\n",
      " [34 56 77 81 44]\n",
      " [47 18 39 86 41]\n",
      " [15 87 75 95 72]\n",
      " [83 40 40 67 42]]\n"
     ]
    }
   ],
   "source": [
    "transpose_matrix = np.transpose(a)\n",
    "print(transpose_matrix)"
   ]
  },
  {
   "cell_type": "markdown",
   "id": "ecf2a440-090b-49e1-97aa-1388ff274c7f",
   "metadata": {},
   "source": [
    "# Matrix Addition"
   ]
  },
  {
   "cell_type": "code",
   "execution_count": 25,
   "id": "73a1323d-853b-4edd-baa2-323ecd657bc6",
   "metadata": {},
   "outputs": [],
   "source": [
    "A = np.array([[1, 2], [3, 4]])\n",
    "B = np.array([[5, 6], [7, 8]])"
   ]
  },
  {
   "cell_type": "code",
   "execution_count": 29,
   "id": "d3023ed6-d0e1-49e3-be5c-0fe2dd88d7ce",
   "metadata": {},
   "outputs": [
    {
     "name": "stdout",
     "output_type": "stream",
     "text": [
      "[[1 2]\n",
      " [3 4]]\n"
     ]
    }
   ],
   "source": [
    "print(A)"
   ]
  },
  {
   "cell_type": "code",
   "execution_count": 27,
   "id": "da7bca53-3357-43f2-9e30-ed358f48cc20",
   "metadata": {},
   "outputs": [
    {
     "name": "stdout",
     "output_type": "stream",
     "text": [
      "[[5 6]\n",
      " [7 8]]\n"
     ]
    }
   ],
   "source": [
    "print(B)"
   ]
  },
  {
   "cell_type": "code",
   "execution_count": 34,
   "id": "c65f85b3-667c-4170-aeb7-a33abb14b016",
   "metadata": {},
   "outputs": [
    {
     "data": {
      "text/plain": [
       "(2, 2)"
      ]
     },
     "execution_count": 34,
     "metadata": {},
     "output_type": "execute_result"
    }
   ],
   "source": [
    "A.shape"
   ]
  },
  {
   "cell_type": "code",
   "execution_count": 35,
   "id": "4106a9bf-12cd-4c88-bf0f-b651301c57b5",
   "metadata": {},
   "outputs": [
    {
     "data": {
      "text/plain": [
       "(2, 2)"
      ]
     },
     "execution_count": 35,
     "metadata": {},
     "output_type": "execute_result"
    }
   ],
   "source": [
    "B.shape"
   ]
  },
  {
   "cell_type": "code",
   "execution_count": 36,
   "id": "1ecfa3fd-683b-471e-8996-c6904013829b",
   "metadata": {},
   "outputs": [
    {
     "name": "stdout",
     "output_type": "stream",
     "text": [
      "[[ 6  8]\n",
      " [10 12]]\n"
     ]
    }
   ],
   "source": [
    "sum = A + B\n",
    "print(sum)"
   ]
  },
  {
   "cell_type": "code",
   "execution_count": 37,
   "id": "5fa948d4-66cb-4b3d-8466-4914100b7e25",
   "metadata": {},
   "outputs": [],
   "source": [
    "matrix_1 = np.random.randint(1, 100, size = (3, 3))\n",
    "matrix_2 = np.random.randint(1, 50, size = (3, 3))"
   ]
  },
  {
   "cell_type": "code",
   "execution_count": 38,
   "id": "e697e3d7-b2f9-43fc-b7f1-83617a921817",
   "metadata": {},
   "outputs": [
    {
     "name": "stdout",
     "output_type": "stream",
     "text": [
      "[[27  9 91]\n",
      " [71 76 97]\n",
      " [56 51 99]]\n"
     ]
    }
   ],
   "source": [
    "print(matrix_1)"
   ]
  },
  {
   "cell_type": "code",
   "execution_count": 39,
   "id": "ad22b59f-a607-4760-9b1e-2e40e4b24b10",
   "metadata": {},
   "outputs": [
    {
     "name": "stdout",
     "output_type": "stream",
     "text": [
      "[[24 98 53]\n",
      " [39 31 66]\n",
      " [41 45 31]]\n"
     ]
    }
   ],
   "source": [
    "print(matrix_2)"
   ]
  },
  {
   "cell_type": "code",
   "execution_count": 40,
   "id": "3ca6bd08-b126-4cac-ae86-c7469a74a5a7",
   "metadata": {},
   "outputs": [
    {
     "name": "stdout",
     "output_type": "stream",
     "text": [
      "[[ 51 107 144]\n",
      " [110 107 163]\n",
      " [ 97  96 130]]\n"
     ]
    }
   ],
   "source": [
    "sum = np.add(matrix_1, matrix_2)\n",
    "print(sum)"
   ]
  },
  {
   "cell_type": "markdown",
   "id": "593ce692-5797-4f92-8f56-bcb3a2c53635",
   "metadata": {},
   "source": [
    "# Matrix Subtraction"
   ]
  },
  {
   "cell_type": "code",
   "execution_count": 43,
   "id": "e19ca1f1-f579-420d-9eea-f6d9786af591",
   "metadata": {},
   "outputs": [],
   "source": [
    "A = np.array([[1, 2], [3, 4]])\n",
    "B = np.array([[5, 6], [7, 8]])"
   ]
  },
  {
   "cell_type": "code",
   "execution_count": 45,
   "id": "240b33a1-9181-497a-86c1-75572f6e1939",
   "metadata": {},
   "outputs": [
    {
     "name": "stdout",
     "output_type": "stream",
     "text": [
      "[[1 2]\n",
      " [3 4]]\n"
     ]
    }
   ],
   "source": [
    "print(A)"
   ]
  },
  {
   "cell_type": "code",
   "execution_count": 46,
   "id": "e207c3a3-2c7a-45c6-a622-bfdde3b085be",
   "metadata": {},
   "outputs": [
    {
     "name": "stdout",
     "output_type": "stream",
     "text": [
      "[[5 6]\n",
      " [7 8]]\n"
     ]
    }
   ],
   "source": [
    "print(B)"
   ]
  },
  {
   "cell_type": "code",
   "execution_count": 41,
   "id": "bafab2c6-607e-4d81-a3a1-f65efe9c2754",
   "metadata": {},
   "outputs": [
    {
     "name": "stdout",
     "output_type": "stream",
     "text": [
      "[[-4 -4]\n",
      " [-4 -4]]\n"
     ]
    }
   ],
   "source": [
    "difference = A - B\n",
    "print(difference)"
   ]
  },
  {
   "cell_type": "code",
   "execution_count": 48,
   "id": "573a3440-7a0c-42fc-b70d-c7e327b5e6d8",
   "metadata": {},
   "outputs": [],
   "source": [
    "matrix_1 = np.random.randint(1, 100, size = (3, 3))\n",
    "matrix_2 = np.random.randint(1, 50, size = (3, 3))"
   ]
  },
  {
   "cell_type": "code",
   "execution_count": 49,
   "id": "ee51061a-ab32-4da1-bfbc-47caadb31fe5",
   "metadata": {},
   "outputs": [
    {
     "name": "stdout",
     "output_type": "stream",
     "text": [
      "[[58 98 46]\n",
      " [23  5 36]\n",
      " [80 73 59]]\n"
     ]
    }
   ],
   "source": [
    "print(matrix_1)"
   ]
  },
  {
   "cell_type": "code",
   "execution_count": 50,
   "id": "4c3d5d4d-e09a-42c8-8aa5-68b4815105e8",
   "metadata": {},
   "outputs": [
    {
     "name": "stdout",
     "output_type": "stream",
     "text": [
      "[[49 48 38]\n",
      " [ 4 27 28]\n",
      " [11 40 25]]\n"
     ]
    }
   ],
   "source": [
    "print(matrix_2)"
   ]
  },
  {
   "cell_type": "code",
   "execution_count": 51,
   "id": "148d4807-59f1-44c3-bf6a-c075a5cc3ecc",
   "metadata": {},
   "outputs": [
    {
     "name": "stdout",
     "output_type": "stream",
     "text": [
      "[[  9  50   8]\n",
      " [ 19 -22   8]\n",
      " [ 69  33  34]]\n"
     ]
    }
   ],
   "source": [
    "diff = np.subtract(matrix_1, matrix_2)\n",
    "print(diff)"
   ]
  },
  {
   "cell_type": "markdown",
   "id": "cb30e9f2-1ce7-4b89-a600-195d9868d2d5",
   "metadata": {},
   "source": [
    "# Multiplying a Matrix by a Scalar"
   ]
  },
  {
   "cell_type": "code",
   "execution_count": 52,
   "id": "d2d7f545-0440-4f81-9bea-46230aee0a07",
   "metadata": {},
   "outputs": [],
   "source": [
    "x = 5\n",
    "y = np.random.randint(1, 20, size = (4, 4))"
   ]
  },
  {
   "cell_type": "code",
   "execution_count": 53,
   "id": "1da47f2f-6748-41b5-a244-f3df8585bc59",
   "metadata": {},
   "outputs": [
    {
     "name": "stdout",
     "output_type": "stream",
     "text": [
      "[[17 14 13  1]\n",
      " [ 2 16  7  7]\n",
      " [ 9 15  3 12]\n",
      " [12  1  1 17]]\n"
     ]
    }
   ],
   "source": [
    "print(y)"
   ]
  },
  {
   "cell_type": "code",
   "execution_count": 55,
   "id": "44737cb4-c91a-4f33-a857-328d475c900f",
   "metadata": {},
   "outputs": [
    {
     "name": "stdout",
     "output_type": "stream",
     "text": [
      "[[85 70 65  5]\n",
      " [10 80 35 35]\n",
      " [45 75 15 60]\n",
      " [60  5  5 85]]\n"
     ]
    }
   ],
   "source": [
    "product = np.multiply(x, y)\n",
    "print(product)"
   ]
  },
  {
   "cell_type": "markdown",
   "id": "020515ca-647f-4dab-94a3-12dee7214fd7",
   "metadata": {},
   "source": [
    "# Multiplication of 2 Matrices"
   ]
  },
  {
   "cell_type": "code",
   "execution_count": 56,
   "id": "19c4f9b0-621c-4b34-a90d-775eeea32e10",
   "metadata": {},
   "outputs": [],
   "source": [
    "matrix_3 = np.random.randint(1, 5, size = (3, 3))\n",
    "matrix_4 = np.random.randint(1, 5, size = (3, 4))"
   ]
  },
  {
   "cell_type": "code",
   "execution_count": 57,
   "id": "5a44d1b4-9e0d-4434-8958-f2c2028ffb7f",
   "metadata": {},
   "outputs": [
    {
     "name": "stdout",
     "output_type": "stream",
     "text": [
      "[[3 1 4]\n",
      " [2 1 3]\n",
      " [1 2 3]]\n"
     ]
    }
   ],
   "source": [
    "print(matrix_3)"
   ]
  },
  {
   "cell_type": "code",
   "execution_count": 58,
   "id": "4694d341-ac0b-4726-b341-8128b66db50a",
   "metadata": {},
   "outputs": [
    {
     "name": "stdout",
     "output_type": "stream",
     "text": [
      "[[3 1 1 1]\n",
      " [2 3 2 4]\n",
      " [3 4 4 4]]\n"
     ]
    }
   ],
   "source": [
    "print(matrix_4)"
   ]
  },
  {
   "cell_type": "code",
   "execution_count": 60,
   "id": "8781251e-4dea-459a-81cf-574caada880c",
   "metadata": {},
   "outputs": [
    {
     "name": "stdout",
     "output_type": "stream",
     "text": [
      "[[23 22 21 23]\n",
      " [17 17 16 18]\n",
      " [16 19 17 21]]\n"
     ]
    }
   ],
   "source": [
    "product = np.dot(matrix_3, matrix_4)\n",
    "print(product)"
   ]
  },
  {
   "cell_type": "code",
   "execution_count": 61,
   "id": "261664b1-1482-459c-8b13-329d5a1e2aaf",
   "metadata": {},
   "outputs": [
    {
     "data": {
      "text/plain": [
       "(3, 4)"
      ]
     },
     "execution_count": 61,
     "metadata": {},
     "output_type": "execute_result"
    }
   ],
   "source": [
    "product.shape"
   ]
  }
 ],
 "metadata": {
  "kernelspec": {
   "display_name": "Python [conda env:base] *",
   "language": "python",
   "name": "conda-base-py"
  },
  "language_info": {
   "codemirror_mode": {
    "name": "ipython",
    "version": 3
   },
   "file_extension": ".py",
   "mimetype": "text/x-python",
   "name": "python",
   "nbconvert_exporter": "python",
   "pygments_lexer": "ipython3",
   "version": "3.12.4"
  }
 },
 "nbformat": 4,
 "nbformat_minor": 5
}
