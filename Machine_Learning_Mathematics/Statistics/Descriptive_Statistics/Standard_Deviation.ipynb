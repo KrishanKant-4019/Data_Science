{
 "cells": [
  {
   "cell_type": "code",
   "execution_count": 9,
   "id": "ed97487f-f462-4d78-9148-f489f0567da5",
   "metadata": {},
   "outputs": [
    {
     "name": "stdout",
     "output_type": "stream",
     "text": [
      "Sample standard deviation: 2.160246899469287\n",
      "Population standard deviation: 2.0\n"
     ]
    }
   ],
   "source": [
    "# Manual Method\n",
    "import math\n",
    "\n",
    "data = [4, 8, 6, 5, 3, 7, 9]\n",
    "\n",
    "mean = sum(data) / len(data)\n",
    "\n",
    "sample_std = math.sqrt(sum((x - mean) ** 2 for x in data) / (len(data) - 1))\n",
    "population_std = math.sqrt(sum((x - mean) ** 2 for x in data) / len(data))\n",
    "\n",
    "print(\"Sample standard deviation:\", sample_std)\n",
    "print(\"Population standard deviation:\", population_std)"
   ]
  },
  {
   "cell_type": "code",
   "execution_count": 11,
   "id": "eeadf9e1-ca80-4ca8-b134-9e68fc7a5fec",
   "metadata": {},
   "outputs": [
    {
     "name": "stdout",
     "output_type": "stream",
     "text": [
      "Sample standard deviation: 2.160246899469287\n",
      "Population standard deviation: 2.0\n"
     ]
    }
   ],
   "source": [
    "# Using statistics module\n",
    "import statistics as stats\n",
    "\n",
    "data = [4, 8, 6, 5, 3, 7, 9]\n",
    "\n",
    "sample_std = stats.stdev(data)\n",
    "population_std = stats.pstdev(data)\n",
    "\n",
    "print(\"Sample standard deviation:\", sample_std)\n",
    "print(\"Population standard deviation:\", population_std)"
   ]
  },
  {
   "cell_type": "code",
   "execution_count": 13,
   "id": "e1090677-e63b-4110-8f74-d827759e49cb",
   "metadata": {},
   "outputs": [
    {
     "name": "stdout",
     "output_type": "stream",
     "text": [
      "Sample standard deviation: 2.160246899469287\n",
      "Population standard deviation: 2.0\n"
     ]
    }
   ],
   "source": [
    "# Using numpy\n",
    "import numpy as np\n",
    "\n",
    "data = [4, 8, 6, 5, 3, 7, 9]\n",
    "\n",
    "sample_std = np.std(data, ddof = 1)\n",
    "population_std = np.std(data)\n",
    "\n",
    "print(\"Sample standard deviation:\", sample_std)\n",
    "print(\"Population standard deviation:\", population_std)"
   ]
  },
  {
   "cell_type": "code",
   "execution_count": 3,
   "id": "cd453c80-244f-454b-b2cf-1045e26d1174",
   "metadata": {},
   "outputs": [
    {
     "name": "stdout",
     "output_type": "stream",
     "text": [
      "Sample standard deviation: 2.160246899469287\n"
     ]
    }
   ],
   "source": [
    "# Using scipy\n",
    "from scipy import stats\n",
    "\n",
    "data = [4, 8, 6, 5, 3, 7, 9]\n",
    "result = stats.tstd(data) # Sample SD(by default)\n",
    "print(\"Sample standard deviation:\", result)"
   ]
  },
  {
   "cell_type": "code",
   "execution_count": 14,
   "id": "cd08e451-7592-4ca5-a05f-0d1e6ce6876d",
   "metadata": {},
   "outputs": [
    {
     "name": "stdout",
     "output_type": "stream",
     "text": [
      "Sample standard deviation: 2.160246899469287\n",
      "Population standard deviation: 2.0\n"
     ]
    }
   ],
   "source": [
    "# Using pandas\n",
    "import pandas as pd\n",
    "\n",
    "data = [4, 8, 6, 5, 3, 7, 9]\n",
    "\n",
    "series = pd.Series(data)\n",
    "\n",
    "sample_std = series.std()\n",
    "population_std = series.std(ddof = 0)\n",
    "\n",
    "print(\"Sample standard deviation:\", sample_std)\n",
    "print(\"Population standard deviation:\", population_std)"
   ]
  }
 ],
 "metadata": {
  "kernelspec": {
   "display_name": "Python [conda env:base] *",
   "language": "python",
   "name": "conda-base-py"
  },
  "language_info": {
   "codemirror_mode": {
    "name": "ipython",
    "version": 3
   },
   "file_extension": ".py",
   "mimetype": "text/x-python",
   "name": "python",
   "nbconvert_exporter": "python",
   "pygments_lexer": "ipython3",
   "version": "3.12.4"
  }
 },
 "nbformat": 4,
 "nbformat_minor": 5
}
