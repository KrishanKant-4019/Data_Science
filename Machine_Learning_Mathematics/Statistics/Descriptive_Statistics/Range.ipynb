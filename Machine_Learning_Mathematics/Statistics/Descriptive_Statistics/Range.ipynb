{
 "cells": [
  {
   "cell_type": "code",
   "execution_count": 17,
   "id": "c8a17ad6-21fc-406f-baeb-310f9d247a6a",
   "metadata": {},
   "outputs": [
    {
     "name": "stdout",
     "output_type": "stream",
     "text": [
      "Range: 35\n"
     ]
    }
   ],
   "source": [
    "# Manual method\n",
    "data = [10, 15, 25, 5, 40]\n",
    "\n",
    "result = max(data) - min(data)\n",
    "print(\"Range:\", result)"
   ]
  },
  {
   "cell_type": "code",
   "execution_count": 1,
   "id": "dfff1651-0bcc-4e9b-8e6c-4040af2d58b8",
   "metadata": {},
   "outputs": [
    {
     "name": "stdout",
     "output_type": "stream",
     "text": [
      "Range: 35\n"
     ]
    }
   ],
   "source": [
    "# Using scipy\n",
    "from scipy import stats\n",
    "\n",
    "data = [10, 15, 25, 5, 40]\n",
    "result = stats.tmax(data) - stats.tmin(data)\n",
    "print(\"Range:\", result)"
   ]
  },
  {
   "cell_type": "code",
   "execution_count": 14,
   "id": "cbc65afd-a69e-405a-8cc0-96a462d2f2f4",
   "metadata": {},
   "outputs": [
    {
     "name": "stdout",
     "output_type": "stream",
     "text": [
      "Range: 35\n"
     ]
    }
   ],
   "source": [
    "# Using numpy\n",
    "import numpy as np\n",
    "\n",
    "data = [10, 15, 25, 5, 40]\n",
    "result = np.ptp(data) # ptp -> peak to peak = max - min\n",
    "\n",
    "print(\"Range:\", result)"
   ]
  },
  {
   "cell_type": "code",
   "execution_count": 15,
   "id": "9d5a287e-59dc-45a9-80c6-10ac44a861aa",
   "metadata": {},
   "outputs": [
    {
     "name": "stdout",
     "output_type": "stream",
     "text": [
      "Range: 35\n"
     ]
    }
   ],
   "source": [
    "# Using pandas\n",
    "import pandas as pd\n",
    "\n",
    "data = [10, 15, 25, 5, 40]\n",
    "series = pd.Series(data)\n",
    "result = series.max() - series.min()\n",
    "\n",
    "print(\"Range:\", result)"
   ]
  },
  {
   "cell_type": "code",
   "execution_count": 16,
   "id": "bb3897b3-d0a1-46a5-a841-c6d76ff80cff",
   "metadata": {},
   "outputs": [
    {
     "name": "stdout",
     "output_type": "stream",
     "text": [
      "Range: 35\n"
     ]
    }
   ],
   "source": [
    "# Using function\n",
    "data = [10, 15, 25, 5, 40]\n",
    "\n",
    "def calculate_range(dataset):\n",
    "    return max(dataset) - min(dataset)\n",
    "\n",
    "print(\"Range:\", calculate_range(data))"
   ]
  }
 ],
 "metadata": {
  "kernelspec": {
   "display_name": "Python [conda env:base] *",
   "language": "python",
   "name": "conda-base-py"
  },
  "language_info": {
   "codemirror_mode": {
    "name": "ipython",
    "version": 3
   },
   "file_extension": ".py",
   "mimetype": "text/x-python",
   "name": "python",
   "nbconvert_exporter": "python",
   "pygments_lexer": "ipython3",
   "version": "3.12.4"
  }
 },
 "nbformat": 4,
 "nbformat_minor": 5
}
