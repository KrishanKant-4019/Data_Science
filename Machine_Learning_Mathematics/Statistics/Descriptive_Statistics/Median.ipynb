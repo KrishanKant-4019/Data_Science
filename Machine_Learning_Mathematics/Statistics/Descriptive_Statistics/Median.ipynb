{
 "cells": [
  {
   "cell_type": "code",
   "execution_count": 7,
   "id": "3b7d53d3-b7f8-4d38-9819-34c122c97d7f",
   "metadata": {},
   "outputs": [
    {
     "name": "stdout",
     "output_type": "stream",
     "text": [
      "Median(Odd): 8\n",
      "Median(Even): 9.0\n"
     ]
    }
   ],
   "source": [
    "# Manual method\n",
    "data_odd = [12, 7, 3, 8, 10]     \n",
    "data_even = [12, 7, 3, 8, 10, 14] \n",
    "\n",
    "def find_median(data):\n",
    "    sorted_data = sorted(data)\n",
    "    n = len(sorted_data)\n",
    "\n",
    "    if n % 2 == 1:\n",
    "        return sorted_data[n // 2]\n",
    "\n",
    "    else:\n",
    "        mid1 = sorted_data[n // 2 - 1]\n",
    "        mid2 = sorted_data[n // 2]\n",
    "        return (mid1 + mid2) / 2\n",
    "\n",
    "print(\"Median(Odd):\", find_median(data_odd))\n",
    "print(\"Median(Even):\", find_median(data_even))"
   ]
  },
  {
   "cell_type": "code",
   "execution_count": 2,
   "id": "0100b944-27b8-4de0-a911-b6794af64e05",
   "metadata": {},
   "outputs": [
    {
     "name": "stdout",
     "output_type": "stream",
     "text": [
      "Median: 30.0\n"
     ]
    }
   ],
   "source": [
    "# Using scipy\n",
    "from scipy import stats\n",
    "\n",
    "data = [10, 20, 30, 40, 50]\n",
    "result = stats.scoreatpercentile(data, 50)\n",
    "print(\"Median:\", result)"
   ]
  },
  {
   "cell_type": "code",
   "execution_count": 2,
   "id": "7c42103c-5214-4023-b69f-4a5c80990d8a",
   "metadata": {},
   "outputs": [
    {
     "name": "stdout",
     "output_type": "stream",
     "text": [
      "Median: 30\n"
     ]
    }
   ],
   "source": [
    "# Using statistics module\n",
    "import statistics as stats\n",
    "\n",
    "data = [10, 20, 30, 40, 50]\n",
    "result = stats.median(data)\n",
    "print(\"Median:\", result)"
   ]
  },
  {
   "cell_type": "code",
   "execution_count": 5,
   "id": "4cb906b0-0e2b-4210-8cf3-5911abbb3c49",
   "metadata": {},
   "outputs": [
    {
     "name": "stdout",
     "output_type": "stream",
     "text": [
      "Median: 30.0\n"
     ]
    }
   ],
   "source": [
    "# Using numpy\n",
    "import numpy as np\n",
    "\n",
    "data = [10, 20, 30, 40, 50]\n",
    "result = np.median(data)\n",
    "print(\"Median:\", result)"
   ]
  },
  {
   "cell_type": "code",
   "execution_count": 1,
   "id": "a9bad329-c035-41c2-8b10-3a329d405efe",
   "metadata": {},
   "outputs": [
    {
     "name": "stdout",
     "output_type": "stream",
     "text": [
      "Median: 30.0\n"
     ]
    }
   ],
   "source": [
    "# Using pandas\n",
    "import pandas as pd\n",
    "\n",
    "data = [10, 20, 30, 40, 50]\n",
    "result = pd.Series(data).median()\n",
    "print(\"Median:\", result)"
   ]
  }
 ],
 "metadata": {
  "kernelspec": {
   "display_name": "Python [conda env:base] *",
   "language": "python",
   "name": "conda-base-py"
  },
  "language_info": {
   "codemirror_mode": {
    "name": "ipython",
    "version": 3
   },
   "file_extension": ".py",
   "mimetype": "text/x-python",
   "name": "python",
   "nbconvert_exporter": "python",
   "pygments_lexer": "ipython3",
   "version": "3.12.4"
  }
 },
 "nbformat": 4,
 "nbformat_minor": 5
}
