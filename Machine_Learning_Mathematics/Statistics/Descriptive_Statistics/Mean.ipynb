{
 "cells": [
  {
   "cell_type": "code",
   "execution_count": 8,
   "id": "8bf45d20-e5ca-476c-93e9-9e7bd12174c0",
   "metadata": {},
   "outputs": [
    {
     "name": "stdout",
     "output_type": "stream",
     "text": [
      "Mean: 30.0\n"
     ]
    }
   ],
   "source": [
    "# Manual method\n",
    "data = [10, 20, 30, 40, 50]\n",
    "\n",
    "result = sum(data) / len(data)\n",
    "print(\"Mean:\", result)"
   ]
  },
  {
   "cell_type": "code",
   "execution_count": 10,
   "id": "d536b6a7-59f1-4e86-8639-a57b6d748013",
   "metadata": {},
   "outputs": [
    {
     "name": "stdout",
     "output_type": "stream",
     "text": [
      "Mean: 30.0\n"
     ]
    }
   ],
   "source": [
    "# Using scipy\n",
    "from scipy import stats\n",
    "\n",
    "data = [10, 20, 30, 40, 50]\n",
    "result = stats.tmean(data) # truncated mean\n",
    "print(\"Mean:\", result)"
   ]
  },
  {
   "cell_type": "code",
   "execution_count": 7,
   "id": "9cd6b752-0bbc-41ba-bc1b-ced45bc0f861",
   "metadata": {},
   "outputs": [
    {
     "name": "stdout",
     "output_type": "stream",
     "text": [
      "Mean: 30.0\n"
     ]
    }
   ],
   "source": [
    "# Using numpy\n",
    "import numpy as np\n",
    "\n",
    "data = [10, 20, 30, 40, 50]\n",
    "result = np.mean(data)\n",
    "print(\"Mean:\", result)"
   ]
  },
  {
   "cell_type": "code",
   "execution_count": 1,
   "id": "de67c2ee-440d-495f-a094-d795d9e6230d",
   "metadata": {},
   "outputs": [
    {
     "name": "stdout",
     "output_type": "stream",
     "text": [
      "Mean: 30\n"
     ]
    }
   ],
   "source": [
    "# Using statistics module\n",
    "import statistics as stats\n",
    "\n",
    "data = [10, 20, 30, 40, 50]\n",
    "result = stats.mean(data)\n",
    "print(\"Mean:\", result)"
   ]
  },
  {
   "cell_type": "code",
   "execution_count": 6,
   "id": "307d54f4-9bed-4f16-8b5c-a37a09934bae",
   "metadata": {},
   "outputs": [
    {
     "name": "stdout",
     "output_type": "stream",
     "text": [
      "Mean: 30.0\n"
     ]
    }
   ],
   "source": [
    "# Using pandas\n",
    "import pandas as pd\n",
    "\n",
    "data = [10, 20, 30, 40, 50]\n",
    "result = pd.Series(data).mean()\n",
    "print(\"Mean:\", result)"
   ]
  }
 ],
 "metadata": {
  "kernelspec": {
   "display_name": "Python [conda env:base] *",
   "language": "python",
   "name": "conda-base-py"
  },
  "language_info": {
   "codemirror_mode": {
    "name": "ipython",
    "version": 3
   },
   "file_extension": ".py",
   "mimetype": "text/x-python",
   "name": "python",
   "nbconvert_exporter": "python",
   "pygments_lexer": "ipython3",
   "version": "3.12.4"
  }
 },
 "nbformat": 4,
 "nbformat_minor": 5
}
