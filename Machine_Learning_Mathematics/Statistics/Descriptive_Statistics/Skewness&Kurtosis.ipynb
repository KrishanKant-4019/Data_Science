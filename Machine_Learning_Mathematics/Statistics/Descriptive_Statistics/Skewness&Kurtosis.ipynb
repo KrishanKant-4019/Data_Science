{
 "cells": [
  {
   "cell_type": "code",
   "execution_count": 3,
   "id": "6600ca6a-0f4f-4e4f-be39-113684ad1a9c",
   "metadata": {},
   "outputs": [
    {
     "name": "stdout",
     "output_type": "stream",
     "text": [
      "Skewness: 1.7794339388110996\n",
      "Kurtosis: 1.1833388643606746\n"
     ]
    }
   ],
   "source": [
    "# Using scipy\n",
    "from scipy.stats import skew, kurtosis\n",
    "\n",
    "data = [10, 12, 14, 13, 15, 100]\n",
    "\n",
    "skewness = skew(data)\n",
    "\n",
    "# (Fisher’s definition: normal dist = 0)\n",
    "kurt = kurtosis(data)\n",
    "\n",
    "print(\"Skewness:\", skewness)\n",
    "print(\"Kurtosis:\", kurt)"
   ]
  },
  {
   "cell_type": "code",
   "execution_count": 5,
   "id": "dc44329b-fe41-49b5-acf4-e0ac547e0db3",
   "metadata": {},
   "outputs": [
    {
     "name": "stdout",
     "output_type": "stream",
     "text": [
      "Skewness: 2.4365902696927666\n",
      "Kurtosis: 5.951405021051967\n"
     ]
    }
   ],
   "source": [
    "# Using pandas\n",
    "import pandas as pd\n",
    "\n",
    "data = [10, 12, 14, 13, 15, 100]\n",
    "\n",
    "series = pd.Series(data)\n",
    "\n",
    "print(\"Skewness:\", series.skew())\n",
    "print(\"Kurtosis:\", series.kurt()) # (Pearson’s definition: normal dist = 3)"
   ]
  }
 ],
 "metadata": {
  "kernelspec": {
   "display_name": "Python [conda env:base] *",
   "language": "python",
   "name": "conda-base-py"
  },
  "language_info": {
   "codemirror_mode": {
    "name": "ipython",
    "version": 3
   },
   "file_extension": ".py",
   "mimetype": "text/x-python",
   "name": "python",
   "nbconvert_exporter": "python",
   "pygments_lexer": "ipython3",
   "version": "3.12.4"
  }
 },
 "nbformat": 4,
 "nbformat_minor": 5
}
