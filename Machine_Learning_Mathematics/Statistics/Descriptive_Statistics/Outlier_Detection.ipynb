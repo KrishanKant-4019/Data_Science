{
 "cells": [
  {
   "cell_type": "code",
   "execution_count": 18,
   "id": "7d98c8e2-0500-4910-9b15-09679ecf43d6",
   "metadata": {},
   "outputs": [
    {
     "name": "stdout",
     "output_type": "stream",
     "text": [
      "Z-Score:  [-0.53275221 -0.4712808  -0.40980939 -0.4405451  -0.37907369  2.23346119]\n",
      "Outliers at indices : [5]\n"
     ]
    }
   ],
   "source": [
    "# Z-Score Method\n",
    "import numpy as np\n",
    "from scipy import stats\n",
    "\n",
    "data = [10, 12, 14, 13, 15, 100]\n",
    "\n",
    "z_scores = stats.zscore(data)\n",
    "outliers = np.where(np.abs(z_scores) > 2)\n",
    "\n",
    "print(\"Z-Score: \", z_scores)\n",
    "print(\"Outliers at indices :\", outliers[0])"
   ]
  },
  {
   "cell_type": "code",
   "execution_count": 4,
   "id": "7e700c5b-ec40-4089-8a86-059ada3b3049",
   "metadata": {},
   "outputs": [
    {
     "name": "stdout",
     "output_type": "stream",
     "text": [
      "Outliers:  100\n"
     ]
    }
   ],
   "source": [
    "# IQR Method(Interquartile Range)\n",
    "import numpy as np\n",
    "\n",
    "data = [10, 12, 14, 13, 15, 100]\n",
    "\n",
    "q1 = np.percentile(data, 25)\n",
    "q3 = np.percentile(data, 75)\n",
    "iqr = q3 - q1\n",
    "lower_bound = q1 - 1.5 * iqr\n",
    "upper_bound = q3 + 1.5 * iqr\n",
    "\n",
    "outliers = [x for x in data if x < lower_bound or x > upper_bound]\n",
    "print(\"Outliers: \", outliers[0])"
   ]
  }
 ],
 "metadata": {
  "kernelspec": {
   "display_name": "Python [conda env:base] *",
   "language": "python",
   "name": "conda-base-py"
  },
  "language_info": {
   "codemirror_mode": {
    "name": "ipython",
    "version": 3
   },
   "file_extension": ".py",
   "mimetype": "text/x-python",
   "name": "python",
   "nbconvert_exporter": "python",
   "pygments_lexer": "ipython3",
   "version": "3.12.4"
  }
 },
 "nbformat": 4,
 "nbformat_minor": 5
}
