{
 "cells": [
  {
   "cell_type": "code",
   "execution_count": 16,
   "id": "e96274d2-d1f9-4df2-aae6-891dc16363f3",
   "metadata": {},
   "outputs": [
    {
     "name": "stdout",
     "output_type": "stream",
     "text": [
      "Sample Variance: 4.666666666666667\n",
      "Population Variance: 4.0\n"
     ]
    }
   ],
   "source": [
    "# Manual method\n",
    "data = [4, 8, 6, 5, 3, 7, 9]\n",
    "\n",
    "mean = sum(data) / len(data)\n",
    "\n",
    "sample_variance = sum((x - mean) ** 2 for x in data) / (len(data) - 1)\n",
    "population_variance = sum((x - mean) ** 2 for x in data) / len(data)\n",
    "\n",
    "print(\"Sample Variance:\", sample_variance)\n",
    "print(\"Population Variance:\", population_variance)"
   ]
  },
  {
   "cell_type": "code",
   "execution_count": 1,
   "id": "6a928dfb-287e-4738-b9c2-71a745253ad9",
   "metadata": {},
   "outputs": [
    {
     "name": "stdout",
     "output_type": "stream",
     "text": [
      "Sample Variance: 4.666666666666667\n"
     ]
    }
   ],
   "source": [
    "# Using scipy\n",
    "from scipy import stats\n",
    "\n",
    "data = [4, 8, 6, 5, 3, 7, 9]\n",
    "\n",
    "result = stats.tvar(data) # computes sample variance(by default)\n",
    "print(\"Sample Variance:\", result)"
   ]
  },
  {
   "cell_type": "code",
   "execution_count": 9,
   "id": "fea82a9e-0d57-4e0f-b3c0-66a255809f6a",
   "metadata": {},
   "outputs": [
    {
     "name": "stdout",
     "output_type": "stream",
     "text": [
      "Sample Variance: 4.666666666666667\n",
      "Population Variance: 4\n"
     ]
    }
   ],
   "source": [
    "# Using statistics module\n",
    "import statistics as stats\n",
    "\n",
    "data = [4, 8, 6, 5, 3, 7, 9]\n",
    "\n",
    "sample_variance = stats.variance(data) # Sample Variance\n",
    "population_variance = stats.pvariance(data) # Population Variance\n",
    "\n",
    "print(\"Sample Variance:\", sample_variance)\n",
    "print(\"Population Variance:\", population_variance)"
   ]
  },
  {
   "cell_type": "code",
   "execution_count": 10,
   "id": "f3f7f746-cbbe-413c-b05e-21bae52d34e7",
   "metadata": {},
   "outputs": [
    {
     "name": "stdout",
     "output_type": "stream",
     "text": [
      "Sample Variance: 4.666666666666667\n",
      "Population Variance: 4.0\n"
     ]
    }
   ],
   "source": [
    "# Using numpy\n",
    "import numpy as np\n",
    "\n",
    "data = [4, 8, 6, 5, 3, 7, 9]\n",
    "\n",
    "sample_variance = np.var(data, ddof = 1)\n",
    "population_variance = np.var(data)\n",
    "\n",
    "print(\"Sample Variance:\", sample_variance)\n",
    "print(\"Population Variance:\", population_variance)"
   ]
  },
  {
   "cell_type": "code",
   "execution_count": 14,
   "id": "53983cd3-3f9c-4d2f-a3b3-161532796bd7",
   "metadata": {},
   "outputs": [
    {
     "name": "stdout",
     "output_type": "stream",
     "text": [
      "Sample Variance: 4.666666666666667\n",
      "Population Variance: 4.0\n"
     ]
    }
   ],
   "source": [
    "# Using pandas\n",
    "import pandas as pd\n",
    "\n",
    "data = [4, 8, 6, 5, 3, 7, 9]\n",
    "\n",
    "series = pd.Series(data)\n",
    "\n",
    "sample_variance = series.var()\n",
    "population_variance = series.var(ddof = 0)\n",
    "\n",
    "print(\"Sample Variance:\", sample_variance)\n",
    "print(\"Population Variance:\", population_variance)"
   ]
  }
 ],
 "metadata": {
  "kernelspec": {
   "display_name": "Python [conda env:base] *",
   "language": "python",
   "name": "conda-base-py"
  },
  "language_info": {
   "codemirror_mode": {
    "name": "ipython",
    "version": 3
   },
   "file_extension": ".py",
   "mimetype": "text/x-python",
   "name": "python",
   "nbconvert_exporter": "python",
   "pygments_lexer": "ipython3",
   "version": "3.12.4"
  }
 },
 "nbformat": 4,
 "nbformat_minor": 5
}
