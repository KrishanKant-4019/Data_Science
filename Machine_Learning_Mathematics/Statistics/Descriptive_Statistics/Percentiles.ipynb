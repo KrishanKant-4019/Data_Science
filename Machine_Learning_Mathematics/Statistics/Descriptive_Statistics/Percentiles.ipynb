{
 "cells": [
  {
   "cell_type": "code",
   "execution_count": 2,
   "id": "75c861c5-3074-44fe-8c44-43744837628f",
   "metadata": {},
   "outputs": [
    {
     "name": "stdout",
     "output_type": "stream",
     "text": [
      "25th Percentile: 30.0\n",
      "50th Percentile: 50.0\n",
      "75th Percentile: 70.0\n"
     ]
    }
   ],
   "source": [
    "# Using scipy\n",
    "from scipy import stats\n",
    "\n",
    "data = [20, 30, 40, 10, 60, 70, 50, 90, 80]\n",
    "\n",
    "p25 = stats.scoreatpercentile(data, 25)\n",
    "p50 = stats.scoreatpercentile(data, 50)\n",
    "p75 = stats.scoreatpercentile(data, 75)\n",
    "\n",
    "print(\"25th Percentile:\", p25)\n",
    "print(\"50th Percentile:\", p50)\n",
    "print(\"75th Percentile:\", p75)"
   ]
  },
  {
   "cell_type": "code",
   "execution_count": 1,
   "id": "d94f6a5f-9644-4305-b7a5-2e182e0599b6",
   "metadata": {},
   "outputs": [
    {
     "name": "stdout",
     "output_type": "stream",
     "text": [
      "25th Percentile: 30.0\n",
      "50th Percentile: 50.0\n",
      "75th Percentile: 70.0\n"
     ]
    }
   ],
   "source": [
    "# Using numpy\n",
    "import numpy as np\n",
    "\n",
    "data = [20, 30, 40, 10, 60, 70, 50, 90, 80]\n",
    "\n",
    "p25 = np.percentile(data, 25)\n",
    "p50 = np.percentile(data, 50)\n",
    "p75 = np.percentile(data, 75)\n",
    "\n",
    "print(\"25th Percentile:\", p25)\n",
    "print(\"50th Percentile:\", p50)\n",
    "print(\"75th Percentile:\", p75)"
   ]
  },
  {
   "cell_type": "code",
   "execution_count": 2,
   "id": "aef3a1f1-cd29-414f-8395-e71e9034eafe",
   "metadata": {},
   "outputs": [
    {
     "name": "stdout",
     "output_type": "stream",
     "text": [
      "25th Percentile: 30.0\n",
      "50th Percentile: 50.0\n",
      "75th Percentile: 70.0\n"
     ]
    }
   ],
   "source": [
    "# Using pandas\n",
    "import pandas as pd\n",
    "\n",
    "data = [20, 30, 40, 10, 60, 70, 50, 90, 80]\n",
    "df = pd.Series(data)\n",
    "\n",
    "print(\"25th Percentile:\", df.quantile(0.25))\n",
    "print(\"50th Percentile:\", df.quantile(0.50))\n",
    "print(\"75th Percentile:\", df.quantile(0.75))"
   ]
  }
 ],
 "metadata": {
  "kernelspec": {
   "display_name": "Python [conda env:base] *",
   "language": "python",
   "name": "conda-base-py"
  },
  "language_info": {
   "codemirror_mode": {
    "name": "ipython",
    "version": 3
   },
   "file_extension": ".py",
   "mimetype": "text/x-python",
   "name": "python",
   "nbconvert_exporter": "python",
   "pygments_lexer": "ipython3",
   "version": "3.12.4"
  }
 },
 "nbformat": 4,
 "nbformat_minor": 5
}
