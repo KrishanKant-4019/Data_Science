{
 "cells": [
  {
   "cell_type": "code",
   "execution_count": 2,
   "id": "c3964070-988c-49aa-a81a-31d3b129bf84",
   "metadata": {},
   "outputs": [
    {
     "name": "stdout",
     "output_type": "stream",
     "text": [
      "Q1: 36\n",
      "Q3: 43\n",
      "IQR: 7\n"
     ]
    }
   ],
   "source": [
    "# Manual method\n",
    "data = [7, 15, 36, 39, 40, 41, 42, 43, 47, 49]\n",
    "\n",
    "def find_iqr(data):\n",
    "    data = sorted(data)\n",
    "    n = len(data)\n",
    "\n",
    "    mid = n // 2\n",
    "\n",
    "    if n % 2 == 0:\n",
    "        lower_half = data[:mid]\n",
    "        upper_half = data[mid:]\n",
    "    else:\n",
    "        lower_half = data[:mid]\n",
    "        upper_half = data[mid + 1:]\n",
    "\n",
    "    def find_median(dataset):\n",
    "        m = len(dataset)\n",
    "        if m % 2 == 0:\n",
    "            mid1 = dataset[m // 2 - 1]\n",
    "            mid2 = dataset[m // 2]\n",
    "            return (mid1 + mid2) / 2\n",
    "        else:\n",
    "            return dataset[m // 2]\n",
    "\n",
    "    q1 = find_median(lower_half)\n",
    "    q3 = find_median(upper_half)\n",
    "    iqr = q3 - q1\n",
    "    return q1, q3, iqr\n",
    "\n",
    "q1, q3, iqr = find_iqr(data)\n",
    "print(\"Q1:\", q1)\n",
    "print(\"Q3:\", q3)\n",
    "print(\"IQR:\", iqr)"
   ]
  },
  {
   "cell_type": "code",
   "execution_count": 1,
   "id": "f4281301-e062-4c22-a12f-8bf4507cec08",
   "metadata": {},
   "outputs": [
    {
     "name": "stdout",
     "output_type": "stream",
     "text": [
      "Q1: 36.75\n",
      "Q3 42.75\n",
      "IQR: 6.0\n"
     ]
    }
   ],
   "source": [
    "# Using numpy\n",
    "import numpy as np\n",
    "\n",
    "data = [7, 15, 36, 39, 40, 41, 42, 43, 47, 49]\n",
    "\n",
    "q1 = np.percentile(data, 25)\n",
    "q3 = np.percentile(data, 75)\n",
    "iqr = q3 - q1\n",
    "\n",
    "print(\"Q1:\", q1)\n",
    "print(\"Q3\", q3)\n",
    "print(\"IQR:\", iqr)"
   ]
  },
  {
   "cell_type": "code",
   "execution_count": 2,
   "id": "025dfaf7-cb1d-480b-aeb3-ea595377926c",
   "metadata": {},
   "outputs": [
    {
     "name": "stdout",
     "output_type": "stream",
     "text": [
      "Q1: 36.75\n",
      "Q3 42.75\n",
      "IQR: 6.0\n"
     ]
    }
   ],
   "source": [
    "# Using pandas\n",
    "import pandas as pd\n",
    "\n",
    "data = [7, 15, 36, 39, 40, 41, 42, 43, 47, 49]\n",
    "\n",
    "series = pd.Series(data)\n",
    "\n",
    "q1 = series.quantile(0.25)\n",
    "q3 = series.quantile(0.75)\n",
    "iqr = q3 - q1\n",
    "\n",
    "print(\"Q1:\", q1)\n",
    "print(\"Q3\", q3)\n",
    "print(\"IQR:\", iqr)"
   ]
  },
  {
   "cell_type": "code",
   "execution_count": 1,
   "id": "bdb5963e-4f99-40be-a3a9-c262f696a500",
   "metadata": {},
   "outputs": [
    {
     "name": "stdout",
     "output_type": "stream",
     "text": [
      "Q1: 36.75\n",
      "Q3 42.75\n",
      "IQR: 6.0\n"
     ]
    }
   ],
   "source": [
    "# Using scipy\n",
    "from scipy import stats\n",
    "\n",
    "data = [7, 15, 36, 39, 40, 41, 42, 43, 47, 49]\n",
    "\n",
    "q1 = stats.scoreatpercentile(data, 25)\n",
    "q3 = stats.scoreatpercentile(data, 75)\n",
    "iqr = q3 - q1\n",
    "\n",
    "print(\"Q1:\", q1)\n",
    "print(\"Q3\", q3)\n",
    "print(\"IQR:\", iqr)"
   ]
  }
 ],
 "metadata": {
  "kernelspec": {
   "display_name": "Python [conda env:base] *",
   "language": "python",
   "name": "conda-base-py"
  },
  "language_info": {
   "codemirror_mode": {
    "name": "ipython",
    "version": 3
   },
   "file_extension": ".py",
   "mimetype": "text/x-python",
   "name": "python",
   "nbconvert_exporter": "python",
   "pygments_lexer": "ipython3",
   "version": "3.12.4"
  }
 },
 "nbformat": 4,
 "nbformat_minor": 5
}
