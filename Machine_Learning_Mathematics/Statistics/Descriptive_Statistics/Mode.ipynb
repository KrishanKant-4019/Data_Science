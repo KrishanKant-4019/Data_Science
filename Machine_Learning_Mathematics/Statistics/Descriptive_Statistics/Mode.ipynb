{
 "cells": [
  {
   "cell_type": "code",
   "execution_count": 13,
   "id": "8f5db0e2-5600-49fc-80ed-2f7869cbe86b",
   "metadata": {},
   "outputs": [
    {
     "name": "stdout",
     "output_type": "stream",
     "text": [
      "Mode: [7]\n"
     ]
    }
   ],
   "source": [
    "# Manual method\n",
    "data = [2, 3, 3, 5, 7, 7, 7, 9]\n",
    "\n",
    "def find_mode(dataset):\n",
    "    max_count = 0 \n",
    "    modes = []\n",
    "\n",
    "    for i in dataset:\n",
    "        count = dataset.count(i)\n",
    "        if count > max_count:\n",
    "           max_count = count\n",
    "           modes = [i]\n",
    "\n",
    "        elif count == max_count and i not in modes:\n",
    "            modes.append(i)\n",
    "\n",
    "    return modes\n",
    "\n",
    "print(\"Mode:\", find_mode(data))"
   ]
  },
  {
   "cell_type": "code",
   "execution_count": 9,
   "id": "6e13f1df-1e0a-4d44-bbdd-f864c282c571",
   "metadata": {},
   "outputs": [
    {
     "name": "stdout",
     "output_type": "stream",
     "text": [
      "Mode: 7\n"
     ]
    }
   ],
   "source": [
    "# Using scipy\n",
    "from scipy import stats\n",
    "\n",
    "data = [2, 3, 3, 5, 7, 7, 7, 9]\n",
    "result = stats.mode(data) # returns the smallest value\n",
    "print(\"Mode:\", result[0])"
   ]
  },
  {
   "cell_type": "code",
   "execution_count": 2,
   "id": "1d5850fd-b655-4818-818b-1c603f32f8d6",
   "metadata": {},
   "outputs": [
    {
     "name": "stdout",
     "output_type": "stream",
     "text": [
      "Mode: [7]\n"
     ]
    }
   ],
   "source": [
    "# Using Pandas\n",
    "import pandas as pd\n",
    "\n",
    "data = [2, 3, 3, 5, 7, 7, 7, 9]\n",
    "result = pd.Series(data).mode().tolist()\n",
    "print(\"Mode:\", result)"
   ]
  },
  {
   "cell_type": "code",
   "execution_count": 6,
   "id": "89c54911-df65-4216-81b7-e64feb2f714c",
   "metadata": {},
   "outputs": [
    {
     "name": "stdout",
     "output_type": "stream",
     "text": [
      "Single Mode: 7\n",
      "Multimode: [7]\n"
     ]
    }
   ],
   "source": [
    "# Using statistics module\n",
    "import statistics as stats\n",
    "\n",
    "data = [2, 3, 3, 5, 7, 7, 7, 9]\n",
    "single_mode = stats.mode(data)\n",
    "multi_mode = stats.multimode(data)\n",
    "\n",
    "print(\"Single Mode:\", single_mode)\n",
    "print(\"Multimode:\", multi_mode)"
   ]
  }
 ],
 "metadata": {
  "kernelspec": {
   "display_name": "Python [conda env:base] *",
   "language": "python",
   "name": "conda-base-py"
  },
  "language_info": {
   "codemirror_mode": {
    "name": "ipython",
    "version": 3
   },
   "file_extension": ".py",
   "mimetype": "text/x-python",
   "name": "python",
   "nbconvert_exporter": "python",
   "pygments_lexer": "ipython3",
   "version": "3.12.4"
  }
 },
 "nbformat": 4,
 "nbformat_minor": 5
}
