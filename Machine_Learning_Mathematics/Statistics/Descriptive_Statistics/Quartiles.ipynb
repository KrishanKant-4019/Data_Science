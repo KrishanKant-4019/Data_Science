{
 "cells": [
  {
   "cell_type": "code",
   "execution_count": 1,
   "id": "5e256204-7b11-4e03-9017-3716d3802574",
   "metadata": {},
   "outputs": [
    {
     "name": "stdout",
     "output_type": "stream",
     "text": [
      "Q1: 30.0\n",
      "Q2(Median): 50.0\n",
      "Q3: 70.0\n"
     ]
    }
   ],
   "source": [
    "# Using scipy\n",
    "from scipy import stats\n",
    "\n",
    "data = [20, 30, 40, 10, 60, 70, 50, 90, 80]\n",
    "q1 = stats.scoreatpercentile(data, 25)\n",
    "q2 = stats.scoreatpercentile(data, 50)\n",
    "q3 = stats.scoreatpercentile(data, 75)\n",
    "\n",
    "print(\"Q1:\", q1)\n",
    "print(\"Q2(Median):\", q2)\n",
    "print(\"Q3:\", q3)"
   ]
  },
  {
   "cell_type": "code",
   "execution_count": 3,
   "id": "4fefcbc9-d4be-435f-a1aa-dafe1e5b8b85",
   "metadata": {},
   "outputs": [
    {
     "name": "stdout",
     "output_type": "stream",
     "text": [
      "Q1: 30.0\n",
      "Q2(Median): 50.0\n",
      "Q3: 70.0\n"
     ]
    }
   ],
   "source": [
    "# Using numpy\n",
    "import numpy as np\n",
    "\n",
    "data = [20, 30, 40, 10, 60, 70, 50, 90, 80]\n",
    "\n",
    "q1 = np.percentile(data, 25)\n",
    "q2 = np.percentile(data, 50)\n",
    "q3 = np.percentile(data, 75)\n",
    "\n",
    "print(\"Q1:\", q1)\n",
    "print(\"Q2(Median):\", q2)\n",
    "print(\"Q3:\", q3)"
   ]
  },
  {
   "cell_type": "code",
   "execution_count": 2,
   "id": "30e03960-4321-450a-9de0-a25c2a35fce6",
   "metadata": {},
   "outputs": [
    {
     "name": "stdout",
     "output_type": "stream",
     "text": [
      "Q1: 30.0\n",
      "Q2(Median): 50.0\n",
      "Q3: 70.0\n"
     ]
    }
   ],
   "source": [
    "# Using pandas\n",
    "import pandas as pd\n",
    "\n",
    "data = [20, 30, 40, 10, 60, 70, 50, 90, 80]\n",
    "series = pd.Series(data)\n",
    "\n",
    "q1 = series.quantile(0.25)\n",
    "q2 = series.quantile(0.50)\n",
    "q3 = series.quantile(0.75)\n",
    "\n",
    "print(\"Q1:\", q1)\n",
    "print(\"Q2(Median):\", q2)\n",
    "print(\"Q3:\", q3)"
   ]
  }
 ],
 "metadata": {
  "kernelspec": {
   "display_name": "Python [conda env:base] *",
   "language": "python",
   "name": "conda-base-py"
  },
  "language_info": {
   "codemirror_mode": {
    "name": "ipython",
    "version": 3
   },
   "file_extension": ".py",
   "mimetype": "text/x-python",
   "name": "python",
   "nbconvert_exporter": "python",
   "pygments_lexer": "ipython3",
   "version": "3.12.4"
  }
 },
 "nbformat": 4,
 "nbformat_minor": 5
}
