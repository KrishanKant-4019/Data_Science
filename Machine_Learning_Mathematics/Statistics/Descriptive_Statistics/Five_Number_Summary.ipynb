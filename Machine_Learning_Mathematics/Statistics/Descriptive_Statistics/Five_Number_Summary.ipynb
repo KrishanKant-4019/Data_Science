{
 "cells": [
  {
   "cell_type": "code",
   "execution_count": 2,
   "id": "46edfcef-67d1-47d8-af2d-cb5473af4430",
   "metadata": {},
   "outputs": [
    {
     "name": "stdout",
     "output_type": "stream",
     "text": [
      "Five Number Summary: [7, 36, 41, 49, 100]\n"
     ]
    }
   ],
   "source": [
    "# Manual method\n",
    "data = [7, 15, 36, 39, 40, 41, 42, 43, 49, 55, 100]\n",
    "data.sort()\n",
    "\n",
    "n = len(data)\n",
    "minimum = data[0]\n",
    "maximum = data[-1]\n",
    "\n",
    "import statistics as stats\n",
    "median = stats.median(data)\n",
    "\n",
    "lower_half = data[:n // 2]\n",
    "upper_half = data[(n + 1) // 2:]\n",
    "\n",
    "q1 = stats.median(lower_half)\n",
    "q3 = stats.median(upper_half)\n",
    "\n",
    "summary = [minimum, q1, median, q3, maximum]\n",
    "print(\"Five Number Summary:\", summary)"
   ]
  },
  {
   "cell_type": "code",
   "execution_count": 3,
   "id": "dee29bb2-6caa-4ebc-8992-28ae6bfa4db4",
   "metadata": {},
   "outputs": [
    {
     "name": "stdout",
     "output_type": "stream",
     "text": [
      "Five Number Summary: [7, 37.5, 41.0, 46.0, 100]\n"
     ]
    }
   ],
   "source": [
    "# Using numpy\n",
    "import numpy as np\n",
    "\n",
    "data = [7, 15, 36, 39, 40, 41, 42, 43, 49, 55, 100]\n",
    "\n",
    "min_val = np.min(data)\n",
    "q1 = np.percentile(data, 25)\n",
    "median = np.percentile(data, 50)\n",
    "q3 = np.percentile(data, 75)\n",
    "max_val = np.max(data)\n",
    "\n",
    "summary = [min_val, q1, median, q3, max_val]\n",
    "print(\"Five Number Summary:\", summary)"
   ]
  },
  {
   "cell_type": "code",
   "execution_count": 7,
   "id": "8a08089c-6db8-4b41-8269-2f8da57efa82",
   "metadata": {},
   "outputs": [
    {
     "name": "stdout",
     "output_type": "stream",
     "text": [
      "Five Number Summary: [7, 37.5, 41.0, 46.0, 100]\n"
     ]
    }
   ],
   "source": [
    "# Using pandas\n",
    "import pandas as pd\n",
    "\n",
    "data = [7, 15, 36, 39, 40, 41, 42, 43, 49, 55, 100]\n",
    "\n",
    "series = pd.Series(data)\n",
    "\n",
    "min_val = series.min()\n",
    "q1 = series.quantile(0.25)\n",
    "median = series.quantile(0.50)\n",
    "q3 = series.quantile(0.75)\n",
    "max_val = series.max()\n",
    "\n",
    "summary = [min_val, q1, median, q3, max_val]\n",
    "print(\"Five Number Summary:\", summary)"
   ]
  }
 ],
 "metadata": {
  "kernelspec": {
   "display_name": "Python [conda env:base] *",
   "language": "python",
   "name": "conda-base-py"
  },
  "language_info": {
   "codemirror_mode": {
    "name": "ipython",
    "version": 3
   },
   "file_extension": ".py",
   "mimetype": "text/x-python",
   "name": "python",
   "nbconvert_exporter": "python",
   "pygments_lexer": "ipython3",
   "version": "3.12.4"
  }
 },
 "nbformat": 4,
 "nbformat_minor": 5
}
