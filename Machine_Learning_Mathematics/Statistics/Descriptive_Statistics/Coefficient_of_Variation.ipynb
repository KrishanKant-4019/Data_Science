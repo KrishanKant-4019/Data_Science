{
 "cells": [
  {
   "cell_type": "code",
   "execution_count": 4,
   "id": "301ba03d-dae9-4671-b519-1269763e56bb",
   "metadata": {},
   "outputs": [
    {
     "name": "stdout",
     "output_type": "stream",
     "text": [
      "Coefficient of Variation: 27.216552697590867\n"
     ]
    }
   ],
   "source": [
    "# Using numpy\n",
    "import numpy as np\n",
    "\n",
    "data = [10, 12, 23, 23, 16, 23, 21, 16]\n",
    "\n",
    "mean = np.mean(data)\n",
    "std = np.std(data)\n",
    "cv = (std / mean) * 100\n",
    "\n",
    "print(\"Coefficient of Variation:\", cv)"
   ]
  },
  {
   "cell_type": "code",
   "execution_count": 5,
   "id": "0729015f-7336-438f-8f21-98072bd0653a",
   "metadata": {},
   "outputs": [
    {
     "name": "stdout",
     "output_type": "stream",
     "text": [
      "Coefficient of Variation: 27.216552697590867\n"
     ]
    }
   ],
   "source": [
    "# Using pandas\n",
    "import pandas as pd\n",
    "\n",
    "data = [10, 12, 23, 23, 16, 23, 21, 16]\n",
    "\n",
    "series = pd.Series(data)\n",
    "\n",
    "mean = series.mean()\n",
    "std = series.std(ddof = 0)\n",
    "cv = (std / mean) * 100\n",
    "\n",
    "print(\"Coefficient of Variation:\", cv)"
   ]
  },
  {
   "cell_type": "code",
   "execution_count": 6,
   "id": "d4b5ac78-d9de-44d3-bd0a-cce2b56dac72",
   "metadata": {},
   "outputs": [
    {
     "name": "stdout",
     "output_type": "stream",
     "text": [
      "Coefficient of Covariation: 27.216552697590867\n"
     ]
    }
   ],
   "source": [
    "# Using scipy\n",
    "from scipy import stats\n",
    "\n",
    "data = [10, 12, 23, 23, 16, 23, 21, 16]\n",
    "\n",
    "cv = stats.variation(data) * 100\n",
    "print(\"Coefficient of Covariation:\", cv)"
   ]
  }
 ],
 "metadata": {
  "kernelspec": {
   "display_name": "Python [conda env:base] *",
   "language": "python",
   "name": "conda-base-py"
  },
  "language_info": {
   "codemirror_mode": {
    "name": "ipython",
    "version": 3
   },
   "file_extension": ".py",
   "mimetype": "text/x-python",
   "name": "python",
   "nbconvert_exporter": "python",
   "pygments_lexer": "ipython3",
   "version": "3.12.4"
  }
 },
 "nbformat": 4,
 "nbformat_minor": 5
}
