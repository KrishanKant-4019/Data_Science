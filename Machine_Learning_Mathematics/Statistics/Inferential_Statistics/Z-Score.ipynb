{
 "cells": [
  {
   "cell_type": "code",
   "execution_count": 1,
   "id": "cee7004e-b68f-4255-aa79-f5c02839b6eb",
   "metadata": {},
   "outputs": [
    {
     "name": "stdout",
     "output_type": "stream",
     "text": [
      "Z-Score: [-1.6329931618554523, -1.2247448713915892, 1.0206207261596576, 1.0206207261596576, -0.4082482904638631, 1.0206207261596576, 0.6123724356957946, -0.4082482904638631]\n"
     ]
    }
   ],
   "source": [
    "# Manual method\n",
    "import math\n",
    "\n",
    "data = [10, 12, 23, 23, 16, 23, 21, 16]\n",
    "\n",
    "mean = sum(data) / len(data)\n",
    "std = math.sqrt(sum((x - mean) ** 2 for x in data) / len(data))\n",
    "\n",
    "z_scores = [(x-mean) / std for x in data]\n",
    "print(\"Z-Score:\", z_scores)"
   ]
  },
  {
   "cell_type": "code",
   "execution_count": 3,
   "id": "5e04b40c-7f9f-42fb-af0e-24518bebfcc2",
   "metadata": {},
   "outputs": [
    {
     "name": "stdout",
     "output_type": "stream",
     "text": [
      "Z-Score: [array([-1.63299316, -1.22474487,  1.02062073,  1.02062073, -0.40824829,\n",
      "        1.02062073,  0.61237244, -0.40824829])]\n"
     ]
    }
   ],
   "source": [
    "# Using numpy\n",
    "import numpy as np\n",
    "\n",
    "data = [10, 12, 23, 23, 16, 23, 21, 16]\n",
    "\n",
    "mean = np.mean(data)\n",
    "std = np.std(data)\n",
    "\n",
    "z_scores = [(np.array(data) - mean) / std]\n",
    "print(\"Z-Score:\", z_scores)"
   ]
  },
  {
   "cell_type": "code",
   "execution_count": 4,
   "id": "8f7973e0-86c7-4eb4-b3c6-f4dab97f33b3",
   "metadata": {},
   "outputs": [
    {
     "name": "stdout",
     "output_type": "stream",
     "text": [
      "Z-Score: [-1.63299316 -1.22474487  1.02062073  1.02062073 -0.40824829  1.02062073\n",
      "  0.61237244 -0.40824829]\n"
     ]
    }
   ],
   "source": [
    "# Using scipy\n",
    "from scipy import stats\n",
    "\n",
    "data = [10, 12, 23, 23, 16, 23, 21, 16]\n",
    "\n",
    "z_scores = stats.zscore(data)\n",
    "print(\"Z-Score:\", z_scores)"
   ]
  }
 ],
 "metadata": {
  "kernelspec": {
   "display_name": "Python [conda env:base] *",
   "language": "python",
   "name": "conda-base-py"
  },
  "language_info": {
   "codemirror_mode": {
    "name": "ipython",
    "version": 3
   },
   "file_extension": ".py",
   "mimetype": "text/x-python",
   "name": "python",
   "nbconvert_exporter": "python",
   "pygments_lexer": "ipython3",
   "version": "3.12.4"
  }
 },
 "nbformat": 4,
 "nbformat_minor": 5
}
