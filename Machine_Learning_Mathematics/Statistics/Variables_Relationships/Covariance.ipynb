{
 "cells": [
  {
   "cell_type": "code",
   "execution_count": 4,
   "id": "7f1121a1-ae8b-461b-99f2-23d2b80b2088",
   "metadata": {},
   "outputs": [
    {
     "name": "stdout",
     "output_type": "stream",
     "text": [
      "Covariance Matrix: [[6.66666667 3.66666667]\n",
      " [3.66666667 2.91666667]]\n",
      "Covariance(x, y): 3.6666666666666665\n"
     ]
    }
   ],
   "source": [
    "# Using numpy\n",
    "import numpy as np\n",
    "\n",
    "x = np.array([2, 4, 6, 8])\n",
    "y = np.array([1, 3, 2, 5])\n",
    "\n",
    "cov_matrix = np.cov(x, y)\n",
    "print(\"Covariance Matrix:\", cov_matrix)\n",
    "print(\"Covariance(x, y):\", cov_matrix[0,1])"
   ]
  },
  {
   "cell_type": "code",
   "execution_count": 9,
   "id": "3a313f82-7b39-4aa9-afd1-5df8b8c08ed6",
   "metadata": {},
   "outputs": [
    {
     "name": "stdout",
     "output_type": "stream",
     "text": [
      "Covariance:\n",
      "           x         y\n",
      "x  6.666667  3.666667\n",
      "y  3.666667  2.916667\n",
      "Covariance between(x, y): 3.6666666666666665\n"
     ]
    }
   ],
   "source": [
    "#Using pandas\n",
    "import pandas as pd\n",
    "\n",
    "data = pd.DataFrame({\n",
    "    'x': [2, 4, 6, 8],\n",
    "    'y': [1, 3, 2, 5]\n",
    "})\n",
    "\n",
    "print(\"Covariance:\\n\", data.cov())\n",
    "print(\"Covariance between(x, y):\", data.cov().loc['x', 'y'])"
   ]
  }
 ],
 "metadata": {
  "kernelspec": {
   "display_name": "Python [conda env:base] *",
   "language": "python",
   "name": "conda-base-py"
  },
  "language_info": {
   "codemirror_mode": {
    "name": "ipython",
    "version": 3
   },
   "file_extension": ".py",
   "mimetype": "text/x-python",
   "name": "python",
   "nbconvert_exporter": "python",
   "pygments_lexer": "ipython3",
   "version": "3.12.4"
  }
 },
 "nbformat": 4,
 "nbformat_minor": 5
}
