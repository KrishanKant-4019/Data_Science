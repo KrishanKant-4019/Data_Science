{
 "cells": [
  {
   "cell_type": "code",
   "execution_count": 2,
   "id": "8980f371-51ee-4410-abfd-456c00850707",
   "metadata": {},
   "outputs": [
    {
     "name": "stdout",
     "output_type": "stream",
     "text": [
      "Correlation Matrix:\n",
      " [[1.         0.83152184]\n",
      " [0.83152184 1.        ]]\n",
      "Correlation(x, y): 0.8315218406202999\n"
     ]
    }
   ],
   "source": [
    "# Using numpy\n",
    "import numpy as np\n",
    "\n",
    "x = np.array([2, 4, 6, 8])\n",
    "y = np.array([1, 3, 2, 5])\n",
    "\n",
    "correlation_matrix = np.corrcoef(x, y)\n",
    "print(\"Correlation Matrix:\\n\", correlation_matrix)\n",
    "print(\"Correlation(x, y):\", correlation_matrix[0, 1])"
   ]
  },
  {
   "cell_type": "code",
   "execution_count": 5,
   "id": "d6a2461d-d536-41f4-9d57-4484701e6a65",
   "metadata": {},
   "outputs": [
    {
     "name": "stdout",
     "output_type": "stream",
     "text": [
      "Correlation:\n",
      "           x         y\n",
      "x  1.000000  0.831522\n",
      "y  0.831522  1.000000\n",
      "Correlation(x, y): 0.8315218406202999\n"
     ]
    }
   ],
   "source": [
    "# Using pandas\n",
    "import pandas as pd\n",
    "\n",
    "data = pd.DataFrame({\n",
    "    'x': [2, 4, 6, 8],\n",
    "    'y': [1, 3, 2, 5]\n",
    "})\n",
    "\n",
    "print(\"Correlation:\\n\", data.corr())\n",
    "print(\"Correlation(x, y):\", data.corr().at['x', 'y'])"
   ]
  },
  {
   "cell_type": "code",
   "execution_count": 2,
   "id": "fc669fbd-d2a9-43e0-a2d4-8c3a423262fd",
   "metadata": {},
   "outputs": [
    {
     "name": "stdout",
     "output_type": "stream",
     "text": [
      "Correlation (x, y): 0.8315218406203\n",
      "P-value: 0.1684781593797\n"
     ]
    }
   ],
   "source": [
    "# Using scipy\n",
    "from scipy.stats import pearsonr\n",
    "\n",
    "x = [2, 4, 6, 8]\n",
    "y = [1, 3, 2, 5]\n",
    "\n",
    "corr, p_value = pearsonr(x, y)\n",
    "\n",
    "print(\"Correlation (x, y):\", corr)\n",
    "print(\"P-value:\", p_value)"
   ]
  }
 ],
 "metadata": {
  "kernelspec": {
   "display_name": "Python [conda env:base] *",
   "language": "python",
   "name": "conda-base-py"
  },
  "language_info": {
   "codemirror_mode": {
    "name": "ipython",
    "version": 3
   },
   "file_extension": ".py",
   "mimetype": "text/x-python",
   "name": "python",
   "nbconvert_exporter": "python",
   "pygments_lexer": "ipython3",
   "version": "3.12.4"
  }
 },
 "nbformat": 4,
 "nbformat_minor": 5
}
