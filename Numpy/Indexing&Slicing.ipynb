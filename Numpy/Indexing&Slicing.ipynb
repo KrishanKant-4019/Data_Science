{
 "cells": [
  {
   "cell_type": "markdown",
   "id": "22984efd-245d-45e2-ad3b-ef9670e75b33",
   "metadata": {},
   "source": [
    "# Indexing"
   ]
  },
  {
   "cell_type": "code",
   "execution_count": 1,
   "id": "0c33baa7-1e50-4fe0-b166-fecff42d7444",
   "metadata": {},
   "outputs": [],
   "source": [
    "import numpy as np"
   ]
  },
  {
   "cell_type": "code",
   "execution_count": 2,
   "id": "e9a58438-925f-4ad7-84cc-4b756e8a1c00",
   "metadata": {},
   "outputs": [
    {
     "name": "stdout",
     "output_type": "stream",
     "text": [
      "10\n",
      "40\n"
     ]
    }
   ],
   "source": [
    "arr1 = np.array([10, 20, 30, 40])\n",
    "print(arr1[0]) # first element\n",
    "print(arr1[-1]) # last element"
   ]
  },
  {
   "cell_type": "markdown",
   "id": "180b2840-4983-4142-981d-69df2d54fa3f",
   "metadata": {},
   "source": [
    "# Slicing(Extracting Parts of an Array) "
   ]
  },
  {
   "cell_type": "code",
   "execution_count": 4,
   "id": "7eb0cab3-d1e5-4c5c-af5e-5ce861a63ead",
   "metadata": {},
   "outputs": [
    {
     "name": "stdout",
     "output_type": "stream",
     "text": [
      "[20 30 40]\n",
      "[10 20 30]\n",
      "[10 30 50]\n",
      "[  1 -99   3   4]\n",
      "[-99   3]\n"
     ]
    }
   ],
   "source": [
    "arr2 = np.array([10, 20, 30, 40, 50])\n",
    "print(arr2[1:4]) # elements from index 1 to 3\n",
    "print(arr2[:3]) # elements from index 0 to 2 or first three elements\n",
    "print(arr2[::2]) # every 2nd element\n",
    "\n",
    "# Slicing returns a view, not a copy! Changes affect the original array.\n",
    "arr3 = np.array([1, 2, 3, 4])\n",
    "arr4 = arr3[1:3]  # This is a view, not a copy\n",
    "arr4[0] = -99  # Modify the slice\n",
    "\n",
    "print(arr3) # Changing arr4 also changes arr3[1] because both refer to the same data in memory\n",
    "print(arr4)"
   ]
  },
  {
   "cell_type": "markdown",
   "id": "fed5e4a4-bb3a-4e57-a6c1-01ffdddf7566",
   "metadata": {},
   "source": [
    "# Fancy Indexing & Boolean Masking"
   ]
  },
  {
   "cell_type": "code",
   "execution_count": 6,
   "id": "d7dfd5fe-506b-4f09-8ec1-1a7603f9b5b6",
   "metadata": {},
   "outputs": [
    {
     "name": "stdout",
     "output_type": "stream",
     "text": [
      "[10 30 50]\n",
      "[False False False  True  True  True]\n",
      "[4 5 6]\n"
     ]
    }
   ],
   "source": [
    "# Fancy Indexing(Select Multiple Elements)\n",
    "arr5 = np.array([10, 20, 30, 40, 50])\n",
    "print(arr5[[0, 2, 4]]) # indices to be printed\n",
    "\n",
    "# Boolean Masking\n",
    "arr6 = np.array([1, 2, 3, 4, 5, 6])\n",
    "print(arr6 > 3) # true for all values which is greater than 3\n",
    "print(arr6[arr6 > 3]) # element which is greater than 3"
   ]
  },
  {
   "cell_type": "markdown",
   "id": "5697dec5-ab9c-41f6-9662-8ba82202cb4a",
   "metadata": {},
   "source": [
    "# Exercises for Practice"
   ]
  },
  {
   "cell_type": "code",
   "execution_count": 6,
   "id": "890a1b8a-dfc2-4568-81ad-16b8a144cd12",
   "metadata": {},
   "outputs": [
    {
     "name": "stdout",
     "output_type": "stream",
     "text": [
      "(3, 3)\n",
      "[1 2 3]\n",
      "[2 4 6]\n",
      "[[1 2 3]\n",
      " [4 5 6]\n",
      " [7 8 9]]\n",
      "[51 52 53 54 55 56 57 58 59]\n"
     ]
    }
   ],
   "source": [
    "# Question-1 : Create a 3×3 array filled with random numbers and print its shape.\n",
    "random_arr = np.array([[1, 2, 3], [4, 5, 6], [7, 8, 9]])\n",
    "print(random_arr.shape)\n",
    "\n",
    "# Question-2 : Convert an array of floats [1.1, 2.2, 3.3] into integers.\n",
    "float_arr = np.array([1.1, 2.2, 3.3])\n",
    "print(float_arr.astype(np.int32))\n",
    "\n",
    "# Question-3 : Use fancy indexing to extract even numbers from [1, 2, 3, 4, 5, 6].\n",
    "even_num = np.array([1, 2, 3, 4, 5, 6])\n",
    "print(even_num[[1, 3, 5]])\n",
    "\n",
    "# Question-4 : Reshape a 1D array of size 9 into a 3×3 matrix.\n",
    "arr = np.arange(1,10)\n",
    "reshaped_arr = arr.reshape((3,3))\n",
    "print(reshaped_arr)\n",
    "\n",
    "# Question_5 : Use boolean masking to filter numbers greater than 50 in an array.\n",
    "num = np.arange(20,60)\n",
    "masked_arr = num > 50\n",
    "print(num[masked_arr])"
   ]
  }
 ],
 "metadata": {
  "kernelspec": {
   "display_name": "Python [conda env:base] *",
   "language": "python",
   "name": "conda-base-py"
  },
  "language_info": {
   "codemirror_mode": {
    "name": "ipython",
    "version": 3
   },
   "file_extension": ".py",
   "mimetype": "text/x-python",
   "name": "python",
   "nbconvert_exporter": "python",
   "pygments_lexer": "ipython3",
   "version": "3.12.4"
  }
 },
 "nbformat": 4,
 "nbformat_minor": 5
}
