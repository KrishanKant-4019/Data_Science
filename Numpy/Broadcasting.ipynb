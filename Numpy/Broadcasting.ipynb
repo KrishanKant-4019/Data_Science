{
 "cells": [
  {
   "cell_type": "markdown",
   "id": "9dc5a2d7-0667-41a7-9581-a626219c10cd",
   "metadata": {},
   "source": [
    "# Looping Over Arrays in Python"
   ]
  },
  {
   "cell_type": "code",
   "execution_count": 9,
   "id": "16e5dcc1-6d86-44d2-bcc9-d3c7170b397d",
   "metadata": {},
   "outputs": [
    {
     "name": "stdout",
     "output_type": "stream",
     "text": [
      "[1, 4, 9, 16]\n"
     ]
    }
   ],
   "source": [
    "import numpy as np\n",
    "arr1=np.array([1,2,3,4])\n",
    "result=[]\n",
    "\n",
    "# Using a loop to square each element (slow)\n",
    "for num in arr1:\n",
    "    result.append(num**2)\n",
    "print(result)"
   ]
  },
  {
   "cell_type": "markdown",
   "id": "745ac385-3654-4933-89d6-6f2f8701d702",
   "metadata": {},
   "source": [
    " # Vectorization: Fixing the Loop Problem"
   ]
  },
  {
   "cell_type": "code",
   "execution_count": 5,
   "id": "082a8ce8-5906-4280-be67-d9ee9a32b838",
   "metadata": {},
   "outputs": [
    {
     "name": "stdout",
     "output_type": "stream",
     "text": [
      "[ 1  4  9 16]\n"
     ]
    }
   ],
   "source": [
    "arr2=np.array([1,2,3,4])\n",
    "arr3=arr2**2 #Vectorized Operation\n",
    "print(arr3)"
   ]
  },
  {
   "cell_type": "markdown",
   "id": "7ad0ba60-3626-402f-a1ef-11f17a485e92",
   "metadata": {},
   "source": [
    "# Broadcasting: Scaling Arrays Without Extra Memory"
   ]
  },
  {
   "cell_type": "code",
   "execution_count": 7,
   "id": "5a3ef4c9-b891-4638-9476-177a9ada7606",
   "metadata": {},
   "outputs": [
    {
     "name": "stdout",
     "output_type": "stream",
     "text": [
      "[11 12 13 14 15]\n"
     ]
    }
   ],
   "source": [
    "arr4=np.array([1,2,3,4,5])\n",
    "arr5=arr4 + 10 # Broadcasting: 10 is added to all elements\n",
    "print(arr5)"
   ]
  },
  {
   "cell_type": "markdown",
   "id": "e5ab1f8b-6650-415a-a964-ac4987604ade",
   "metadata": {},
   "source": [
    "# Broadcasting with Arrays of Different Shapes"
   ]
  },
  {
   "cell_type": "code",
   "execution_count": 12,
   "id": "dc473eef-953a-4769-8b63-02a3f5dc3be3",
   "metadata": {},
   "outputs": [
    {
     "name": "stdout",
     "output_type": "stream",
     "text": [
      "[ 7  9 11 13 15]\n"
     ]
    }
   ],
   "source": [
    "# Broadcasting with Two Arrays\n",
    "arr6=np.array([1,2,3,4,5])\n",
    "arr7=np.array([6,7,8,9,10])\n",
    "print(arr6+arr7) # Element-wise addition\n",
    "\n",
    "# Broadcasting a 2D Array and a 1D Array\n",
    "arr8=np.array([[1,2,3],[4,5,6]])\n",
    "arr9=np.array([1,2,3])\n",
    "print(arr8+arr9) #arr9 is broadcast across the rows of arr8, adding [1, 2, 3] to each row."
   ]
  },
  {
   "cell_type": "markdown",
   "id": "35450e41-3dec-4531-84e8-3f5d134ab558",
   "metadata": {},
   "source": [
    "# Hands-on: Applying Broadcasting to Real-World Scenarios"
   ]
  },
  {
   "cell_type": "code",
   "execution_count": 14,
   "id": "9af508c7-b35a-465a-946b-4e789187670a",
   "metadata": {},
   "outputs": [
    {
     "name": "stdout",
     "output_type": "stream",
     "text": [
      "[[-1.41421356 -1.41421356 -1.41421356]\n",
      " [-0.70710678 -0.70710678 -0.70710678]\n",
      " [ 0.          0.          0.        ]\n",
      " [ 0.70710678  0.70710678  0.70710678]\n",
      " [ 1.41421356  1.41421356  1.41421356]]\n"
     ]
    }
   ],
   "source": [
    "# Simulating a dataset (5 samples, 3 features)\n",
    "data = np.array([[10, 20, 30],\n",
    "                 [15, 25, 35],\n",
    "                 [20, 30, 40],\n",
    "                 [25, 35, 45],\n",
    "                 [30, 40, 50]])\n",
    "\n",
    "# Calculating mean and standard deviation for each feature (column)\n",
    "mean = data.mean(axis=0)\n",
    "std = data.std(axis=0)\n",
    "\n",
    "# Normalizing the data using broadcasting\n",
    "normalized_data = (data - mean) / std\n",
    "\n",
    "print(normalized_data)"
   ]
  }
 ],
 "metadata": {
  "kernelspec": {
   "display_name": "Python [conda env:base] *",
   "language": "python",
   "name": "conda-base-py"
  },
  "language_info": {
   "codemirror_mode": {
    "name": "ipython",
    "version": 3
   },
   "file_extension": ".py",
   "mimetype": "text/x-python",
   "name": "python",
   "nbconvert_exporter": "python",
   "pygments_lexer": "ipython3",
   "version": "3.12.4"
  }
 },
 "nbformat": 4,
 "nbformat_minor": 5
}
