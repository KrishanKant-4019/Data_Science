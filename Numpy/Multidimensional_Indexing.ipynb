{
 "cells": [
  {
   "cell_type": "markdown",
   "id": "5a105ea2-25a2-47f8-84e6-e732ac4a2c98",
   "metadata": {},
   "source": [
    "#Concept of Axis in Numpy"
   ]
  },
  {
   "cell_type": "code",
   "execution_count": 2,
   "id": "51b5f0b8-2be1-4e20-af7d-da1cd452185e",
   "metadata": {},
   "outputs": [
    {
     "name": "stdout",
     "output_type": "stream",
     "text": [
      "[[1 2 3]\n",
      " [4 5 6]\n",
      " [7 8 9]]\n"
     ]
    }
   ],
   "source": [
    "import numpy as np\n",
    "arr1=np.array([[1,2,3,],[4,5,6],[7,8,9]])\n",
    "print(arr1)"
   ]
  },
  {
   "cell_type": "code",
   "execution_count": 5,
   "id": "2b5f5b63-42b2-4c8f-9484-0fdcb66f6203",
   "metadata": {},
   "outputs": [
    {
     "name": "stdout",
     "output_type": "stream",
     "text": [
      "[12 15 18]\n",
      "[ 6 15 24]\n"
     ]
    }
   ],
   "source": [
    "print(np.sum(arr1,axis=0)) # Sum along rows (down each column)\n",
    "print(np.sum(arr1,axis=1)) # Sum along columns (across each row)"
   ]
  },
  {
   "cell_type": "markdown",
   "id": "4ba419c9-0228-4cd3-b45b-d2f55a7fbc00",
   "metadata": {},
   "source": [
    "#Indexing in Multidimensional Arrays"
   ]
  },
  {
   "cell_type": "code",
   "execution_count": 6,
   "id": "b2e2780c-d852-46a1-8445-e778d623a89d",
   "metadata": {},
   "outputs": [
    {
     "name": "stdout",
     "output_type": "stream",
     "text": [
      "6\n",
      "[[2 3]\n",
      " [5 6]]\n"
     ]
    }
   ],
   "source": [
    "#Accessing an element\n",
    "print(arr1[1,2]) # Row index 1, Column index 2 → Output: 6\n",
    "print(arr1[0:2, 1:3])  # Extracts first 2 rows and last 2 columns"
   ]
  },
  {
   "cell_type": "markdown",
   "id": "8cb6b25e-3da5-4044-8ad3-9d776148abc1",
   "metadata": {},
   "source": [
    "#Indexing in 3D Arrays"
   ]
  },
  {
   "cell_type": "code",
   "execution_count": 6,
   "id": "53e1a17c-0e52-41f8-bf0f-b7a58a9e2183",
   "metadata": {},
   "outputs": [
    {
     "name": "stdout",
     "output_type": "stream",
     "text": [
      "[[[ 1  2  3]\n",
      "  [ 4  5  6]]\n",
      "\n",
      " [[ 7  8  9]\n",
      "  [10 11 12]]]\n",
      "(2, 2, 3)\n",
      "6\n",
      "[[1 2 3]\n",
      " [7 8 9]]\n"
     ]
    }
   ],
   "source": [
    "#For 3D arrays, the first index refers to the \"depth\" (sheets of data).\n",
    "arr2 = np.array([[[1, 2, 3], [4, 5, 6]],\n",
    "                  [[7, 8, 9], [10, 11, 12]]])\n",
    "print(arr2)\n",
    "print(arr2.shape)\n",
    "\n",
    "# Accessing elements in 3D:\n",
    "\n",
    "# First sheet, second row, third column\n",
    "print(arr2[0, 1, 2])  # Output: 6\n",
    "print(arr2[:, 0, :])   # Get the first row from both sheets"
   ]
  },
  {
   "cell_type": "code",
   "execution_count": 9,
   "id": "a08f2247-24d2-4810-9757-c63ebe00eda5",
   "metadata": {},
   "outputs": [
    {
     "name": "stdout",
     "output_type": "stream",
     "text": [
      "[1 4 7]\n",
      "[[1 2 3]\n",
      " [7 8 9]]\n"
     ]
    }
   ],
   "source": [
    "# Selecting Data Along Axes\n",
    "\n",
    "# Get all rows of the first column\n",
    "first_col = arr1[:, 0]\n",
    "print(first_col)  # Output: [1 4 7]\n",
    "\n",
    "# Get the first row from each \"sheet\" in a 3D array\n",
    "first_rows = arr2[:, 0, :]\n",
    "print(first_rows)"
   ]
  },
  {
   "cell_type": "code",
   "execution_count": 13,
   "id": "c7af215a-3eed-4621-a0e9-659a9ea92bf8",
   "metadata": {},
   "outputs": [
    {
     "name": "stdout",
     "output_type": "stream",
     "text": [
      "[[[1 2 3]\n",
      "  [0 0 0]]\n",
      "\n",
      " [[7 8 9]\n",
      "  [0 0 0]]]\n"
     ]
    }
   ],
   "source": [
    "# Changing Data Along an Axis\n",
    "\n",
    "# Replace all elements in column 1 with 0\n",
    "arr2[:, 1] = 0\n",
    "print(arr2)"
   ]
  }
 ],
 "metadata": {
  "kernelspec": {
   "display_name": "Python [conda env:base] *",
   "language": "python",
   "name": "conda-base-py"
  },
  "language_info": {
   "codemirror_mode": {
    "name": "ipython",
    "version": 3
   },
   "file_extension": ".py",
   "mimetype": "text/x-python",
   "name": "python",
   "nbconvert_exporter": "python",
   "pygments_lexer": "ipython3",
   "version": "3.12.4"
  }
 },
 "nbformat": 4,
 "nbformat_minor": 5
}
