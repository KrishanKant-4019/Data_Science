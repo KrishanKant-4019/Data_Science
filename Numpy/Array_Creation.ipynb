{
 "cells": [
  {
   "cell_type": "markdown",
   "id": "83ba6a84-13e1-45a9-80c2-444aa50dbcbe",
   "metadata": {},
   "source": [
    "# Creating Numpy Arrays"
   ]
  },
  {
   "cell_type": "code",
   "execution_count": 4,
   "id": "a8d2970d-c3a9-40f7-84b8-05acf5df6f22",
   "metadata": {},
   "outputs": [],
   "source": [
    "import numpy as np"
   ]
  },
  {
   "cell_type": "code",
   "execution_count": 1,
   "id": "2d9e2599-77e4-470a-b86c-b85de23df9e7",
   "metadata": {},
   "outputs": [
    {
     "name": "stdout",
     "output_type": "stream",
     "text": [
      "[1 2 3 4 5]\n",
      "[[1 2 3 4]\n",
      " [5 6 7 8]]\n",
      "[[[1 2 3]]\n",
      "\n",
      " [[4 5 6]]\n",
      "\n",
      " [[7 8 9]]]\n"
     ]
    }
   ],
   "source": [
    "arr1 = np.array([1,2,3,4,5]) # 1D Array\n",
    "arr2 = np.array([[1,2,3,4],[5,6,7,8]]) # 2D Array\n",
    "arr3 = np.array([[[1,2,3]],[[4,5,6]],[[7,8,9]]]) # 3D Array\n",
    "\n",
    "print(arr1)\n",
    "print(arr2)\n",
    "print(arr3)"
   ]
  },
  {
   "cell_type": "markdown",
   "id": "f646535e-900d-4450-9201-f09bd9d7f4bc",
   "metadata": {},
   "source": [
    "# Creating Arrays from Scratch"
   ]
  },
  {
   "cell_type": "code",
   "execution_count": 2,
   "id": "04043d46-ad57-493a-a81a-88db22b22abf",
   "metadata": {},
   "outputs": [
    {
     "name": "stdout",
     "output_type": "stream",
     "text": [
      "[[0. 0. 0.]\n",
      " [0. 0. 0.]\n",
      " [0. 0. 0.]]\n",
      "[[1. 1. 1. 1.]\n",
      " [1. 1. 1. 1.]]\n",
      "[[7 7 7 7]\n",
      " [7 7 7 7]\n",
      " [7 7 7 7]\n",
      " [7 7 7 7]]\n",
      "[[1. 0. 0.]\n",
      " [0. 1. 0.]\n",
      " [0. 0. 1.]]\n",
      "[0.   0.25 0.5  0.75 1.  ]\n",
      "[1 3 5 7 9]\n"
     ]
    }
   ],
   "source": [
    "print(np.zeros((3,3))) # 3x3 matrix or array of zeros\n",
    "print(np.ones((2,4))) # 2x4 matrix of ones\n",
    "print(np.full((4,4),7)) # 4x4 matrix which contains only number 7\n",
    "print(np.eye(3)) # 3x3 identity matrix.\n",
    "print(np.linspace(0,1,5)) # Evenly spaced array from number 0 to 1. \n",
    "print(np.arange(1,10,2)) # An array from number 1 to 9 incrementing by 2."
   ]
  },
  {
   "cell_type": "markdown",
   "id": "9c76695c-8264-4c42-87e9-dd2178bae644",
   "metadata": {},
   "source": [
    "# Checking Array Properties"
   ]
  },
  {
   "cell_type": "code",
   "execution_count": 3,
   "id": "d75dc31a-c25a-4e54-8a02-fa97c143d586",
   "metadata": {},
   "outputs": [
    {
     "name": "stdout",
     "output_type": "stream",
     "text": [
      "Shape: (2, 4)\n",
      "Dimension: 2\n",
      "Size: 8\n",
      "Data Type: int32\n"
     ]
    }
   ],
   "source": [
    "arr4 = np.array([[1, 2, 3, 4], [5, 6, 7, 8]])\n",
    "print(\"Shape:\", arr4.shape) # Shape\n",
    "print(\"Dimension:\", arr4.ndim) # Dimension\n",
    "print(\"Size:\", arr4.size) # Size\n",
    "print(\"Data Type:\", arr4.dtype) # Data Type"
   ]
  },
  {
   "cell_type": "markdown",
   "id": "00557cc0-eb64-4d02-9de9-22c3018b9383",
   "metadata": {},
   "source": [
    "# Changing Data Types"
   ]
  },
  {
   "cell_type": "code",
   "execution_count": 35,
   "id": "1ab1054a-91c8-483f-9e81-6366e830d89c",
   "metadata": {},
   "outputs": [
    {
     "name": "stdout",
     "output_type": "stream",
     "text": [
      "[1. 2. 3. 4.]\n",
      "[1 2 3 4]\n"
     ]
    }
   ],
   "source": [
    "arr5 = np.array([1, 2, 3, 4], dtype = 'float32') # Explicit conversion\n",
    "print(arr5)\n",
    "\n",
    "arr6 = arr5.astype(np.int32) # Converting float to int\n",
    "print(arr6)"
   ]
  },
  {
   "cell_type": "markdown",
   "id": "4b8d2ef7-91df-41ab-9589-fbb7d2b6a888",
   "metadata": {},
   "source": [
    "# Reshaping and Flattening Arrays"
   ]
  },
  {
   "cell_type": "code",
   "execution_count": 38,
   "id": "3a6d252b-e7e6-4ecf-963e-7509cc255c94",
   "metadata": {},
   "outputs": [
    {
     "name": "stdout",
     "output_type": "stream",
     "text": [
      "(2, 4)\n",
      "[[10 20]\n",
      " [30 40]\n",
      " [50 60]\n",
      " [70 80]]\n",
      "[10 20 30 40 50 60 70 80]\n"
     ]
    }
   ],
   "source": [
    "arr7 = np.array([[10, 20, 30, 40], [50, 60, 70, 80]])\n",
    "print(arr7.shape) # Checking the shape of the array\n",
    "\n",
    "reshaped_array = arr7.reshape((4,2)) # Reshaping of an array\n",
    "print(reshaped_array)\n",
    "\n",
    "flattened_array = arr7.flatten() # Converting 2D array to 1D array\n",
    "print(flattened_array)"
   ]
  }
 ],
 "metadata": {
  "kernelspec": {
   "display_name": "Python [conda env:base] *",
   "language": "python",
   "name": "conda-base-py"
  },
  "language_info": {
   "codemirror_mode": {
    "name": "ipython",
    "version": 3
   },
   "file_extension": ".py",
   "mimetype": "text/x-python",
   "name": "python",
   "nbconvert_exporter": "python",
   "pygments_lexer": "ipython3",
   "version": "3.12.4"
  }
 },
 "nbformat": 4,
 "nbformat_minor": 5
}
