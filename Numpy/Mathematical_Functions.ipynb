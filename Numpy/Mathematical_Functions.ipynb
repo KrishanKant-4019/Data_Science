{
 "cells": [
  {
   "cell_type": "code",
   "execution_count": 29,
   "id": "8c48cc2f-d4ee-485e-8815-f04090dabaee",
   "metadata": {},
   "outputs": [
    {
     "name": "stdout",
     "output_type": "stream",
     "text": [
      "3.0\n",
      "3.0\n",
      "1.4142135623730951\n",
      "2.0\n",
      "15\n",
      "5\n",
      "1\n",
      "120\n",
      "3.0\n",
      "0\n",
      "4\n",
      "[1 2 3 4 5]\n"
     ]
    }
   ],
   "source": [
    "import numpy as np\n",
    "arr = np.array([1,1,2,3,4,5,5])\n",
    "\n",
    "print(arr.mean())            #Mean\n",
    "print(np.median(arr))        #Median (function, not method)\n",
    "print(arr.std())             #Standard Deviation\n",
    "print(arr.var())             #Variance\n",
    "print(arr.sum())             #Sum\n",
    "print(arr.max())             #Maximum value\n",
    "print(arr.min())             #Minimum value\n",
    "print(arr.prod())            #Product\n",
    "print(np.percentile(arr, 50))#50th percentile (function, not method)\n",
    "print(arr.argmin())          #Index of minimum value \n",
    "print(arr.argmax())          #Index of maximum value\n",
    "print(np.unique(arr))        #Unique elements (function, not method)\n"
   ]
  }
 ],
 "metadata": {
  "kernelspec": {
   "display_name": "Python [conda env:base] *",
   "language": "python",
   "name": "conda-base-py"
  },
  "language_info": {
   "codemirror_mode": {
    "name": "ipython",
    "version": 3
   },
   "file_extension": ".py",
   "mimetype": "text/x-python",
   "name": "python",
   "nbconvert_exporter": "python",
   "pygments_lexer": "ipython3",
   "version": "3.12.4"
  }
 },
 "nbformat": 4,
 "nbformat_minor": 5
}
