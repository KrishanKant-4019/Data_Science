{
 "cells": [
  {
   "cell_type": "code",
   "execution_count": null,
   "id": "13bb2ad1-7166-45a4-a7b7-157785a0a494",
   "metadata": {},
   "outputs": [
    {
     "name": "stdout",
     "output_type": "stream",
     "text": [
      "Numpy Scientific Calculator:\n",
      "Available operations: add, subtract, multiply, divide, sin, cos, tan, exp, log, sqrt, dot, det, inv, mean, std, var, exit\n"
     ]
    },
    {
     "name": "stdin",
     "output_type": "stream",
     "text": [
      "Enter Operation: add\n",
      "Enter first array: 5\n",
      "Enter second array: 6\n"
     ]
    },
    {
     "name": "stdout",
     "output_type": "stream",
     "text": [
      "11\n"
     ]
    },
    {
     "name": "stdin",
     "output_type": "stream",
     "text": [
      "Enter Operation: product\n"
     ]
    },
    {
     "name": "stdout",
     "output_type": "stream",
     "text": [
      "Syntax Error!\n"
     ]
    },
    {
     "name": "stdin",
     "output_type": "stream",
     "text": [
      "Enter Operation: multiply\n",
      "Enter first array: 7\n",
      "Enter second array: 8\n"
     ]
    },
    {
     "name": "stdout",
     "output_type": "stream",
     "text": [
      "56\n"
     ]
    },
    {
     "name": "stdin",
     "output_type": "stream",
     "text": [
      "Enter Operation: exp\n",
      "Enter the array: 6\n"
     ]
    },
    {
     "name": "stdout",
     "output_type": "stream",
     "text": [
      "403.4287934927351\n"
     ]
    }
   ],
   "source": [
    "import numpy as np\n",
    "\n",
    "def scientific_calculator():\n",
    "    print(\"Numpy Scientific Calculator:\")\n",
    "    print(\"Available operations: add, subtract, multiply, divide, sin, cos, tan, exp, log, sqrt, dot, det, inv, mean, std, var, exit\")\n",
    "    while True:\n",
    "        op=input(\"Enter Operation:\").strip()\n",
    "        if op==\"exit\":\n",
    "            break\n",
    "        elif op in [\"add\",\"subtract\",\"divide\",\"multiply\",\"dot\"]:\n",
    "            arr1=np.array(eval(input(\"Enter first array:\")))\n",
    "            arr2=np.array(eval(input(\"Enter second array:\")))\n",
    "            if op==\"add\":\n",
    "                 print(np.add(arr1,arr2))\n",
    "            elif op==\"subtract\":\n",
    "                 print(np.subtract(arr1,arr2))\n",
    "            elif op==\"multiply\":\n",
    "                 print(np.multiply(arr1,arr2))\n",
    "            elif op==\"divide\":\n",
    "                 print(np.divide(arr1,arr2))\n",
    "            elif op==\"dot\":\n",
    "                 print(np.dot(arr1,arr2))\n",
    "        elif op in [\"sin\", \"cos\", \"tan\", \"exp\", \"log\", \"sqrt\", \"mean\", \"std\", \"var\"]:\n",
    "            arr3=np.array(eval(input(\"Enter the array:\")))\n",
    "            if op==\"sin\":\n",
    "                print(np.sin(arr3))\n",
    "            elif op==\"cos\":\n",
    "                print(np.cos(arr3))\n",
    "            elif op==\"tan\":\n",
    "                print(np.tan(arr3))\n",
    "            elif op==\"exp\":\n",
    "                print(np.exp(arr3))\n",
    "            elif op==\"log\":\n",
    "                print(np.log(arr3))\n",
    "            # elif op==\"sqrt\":\n",
    "                print(np.sqrt(arr3))\n",
    "            elif op==\"mean\":\n",
    "                print(np.mean(arr3))\n",
    "            elif op==\"std\":\n",
    "                print(np.std(arr3))\n",
    "            elif op==\"var\":\n",
    "                print(np.var(arr3))\n",
    "        elif op in [\"det\", \"inv\"]:\n",
    "            arr4=np.array(eval(input(\"Enter the array:\")))\n",
    "            if op==\"det\":\n",
    "                print(np.linalg.det(arr4))      \n",
    "            elif op==\"inv\":\n",
    "                print(np.linalg.inv(arr4))\n",
    "        else:\n",
    "            print(\"Syntax Error!\")\n",
    "\n",
    "if __name__ == \"__main__\":\n",
    "    scientific_calculator()\n",
    "\n",
    "            \n",
    "                                      \n",
    "                                             \n",
    "                                                           "
   ]
  },
  {
   "cell_type": "code",
   "execution_count": null,
   "id": "5e3c97d9-19d8-47df-b8a5-1f16e6dab0e8",
   "metadata": {},
   "outputs": [],
   "source": []
  }
 ],
 "metadata": {
  "kernelspec": {
   "display_name": "Python [conda env:base] *",
   "language": "python",
   "name": "conda-base-py"
  },
  "language_info": {
   "codemirror_mode": {
    "name": "ipython",
    "version": 3
   },
   "file_extension": ".py",
   "mimetype": "text/x-python",
   "name": "python",
   "nbconvert_exporter": "python",
   "pygments_lexer": "ipython3",
   "version": "3.12.4"
  }
 },
 "nbformat": 4,
 "nbformat_minor": 5
}
