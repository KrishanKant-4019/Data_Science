{
 "cells": [
  {
   "cell_type": "markdown",
   "id": "cb6940af-3d4d-4916-9bb8-0ce4ca7f7271",
   "metadata": {},
   "source": [
    "#Numpy Data Types"
   ]
  },
  {
   "cell_type": "code",
   "execution_count": 2,
   "id": "28b1ddbc-fb5a-48b7-88a9-e309cbff5224",
   "metadata": {},
   "outputs": [
    {
     "name": "stdout",
     "output_type": "stream",
     "text": [
      "int32\n"
     ]
    }
   ],
   "source": [
    "import numpy as np\n",
    "arr1=np.array([1,2,3,4,5])\n",
    "print(arr1.dtype) #Output depends on the system"
   ]
  },
  {
   "cell_type": "markdown",
   "id": "f52e45d7-3675-4c98-911d-d1e402fe829c",
   "metadata": {},
   "source": [
    "#Changing Data Types"
   ]
  },
  {
   "cell_type": "code",
   "execution_count": 12,
   "id": "951ff06c-ac76-4eca-b44b-0e3a86208f9f",
   "metadata": {},
   "outputs": [
    {
     "name": "stdout",
     "output_type": "stream",
     "text": [
      "float64\n",
      "[1 2 3]\n",
      "int32\n"
     ]
    }
   ],
   "source": [
    "arr2=np.array([1.5, 2.7, 3.9])\n",
    "print(arr2.dtype) # Output:float64(default in the case of float)\n",
    "\n",
    "arr3=arr2.astype(np.int32) #converting float to int\n",
    "print(arr3)\n",
    "print(arr3.dtype) #Output:int32"
   ]
  },
  {
   "cell_type": "markdown",
   "id": "a34fd019-5aaa-4466-b198-175234e68d76",
   "metadata": {},
   "source": [
    "#Downcasting to Save Memory"
   ]
  },
  {
   "cell_type": "code",
   "execution_count": 15,
   "id": "e73bd9df-1156-405e-82f5-dd5d4e8906d9",
   "metadata": {},
   "outputs": [
    {
     "name": "stdout",
     "output_type": "stream",
     "text": [
      "[1000000 2000000 3000000]\n",
      "int32\n"
     ]
    }
   ],
   "source": [
    "arr4=np.array([1000000, 2000000, 3000000], dtype=np.int64)\n",
    "arr5=arr4.astype(np.int32) #Downcasting to a smaller dtype\n",
    "print(arr5)\n",
    "print(arr5.dtype)  # Output:int32"
   ]
  },
  {
   "cell_type": "markdown",
   "id": "2a051626-d9d2-42a1-9e69-d97072ad366d",
   "metadata": {},
   "source": [
    "#Memory Usage"
   ]
  },
  {
   "cell_type": "code",
   "execution_count": 19,
   "id": "b01044a3-927d-428f-8fdd-097695587358",
   "metadata": {},
   "outputs": [
    {
     "name": "stdout",
     "output_type": "stream",
     "text": [
      "24\n",
      "12\n"
     ]
    }
   ],
   "source": [
    "arr6=np.array([1, 2, 3], dtype=np.int64)\n",
    "arr7=np.array([1, 2, 3], dtype=np.int32)\n",
    "\n",
    "print(arr6.nbytes)  #Output: 24 bytes (3 elements * 8 bytes each)\n",
    "print(arr7.nbytes)  #Output: 12 bytes (3 elements * 4 bytes each)"
   ]
  },
  {
   "cell_type": "markdown",
   "id": "32857c73-c850-4749-a319-fad911030890",
   "metadata": {},
   "source": [
    "#String Data Type in NumPy"
   ]
  },
  {
   "cell_type": "code",
   "execution_count": 21,
   "id": "2a7aa5fe-38bc-4c93-916e-5e0e26b3e6e2",
   "metadata": {},
   "outputs": [
    {
     "name": "stdout",
     "output_type": "stream",
     "text": [
      "['Apple' 'Banana' 'Mango']\n"
     ]
    }
   ],
   "source": [
    "arr8=np.array(['Apple','Banana','Mango'],dtype='U10') #Unicode String Array\n",
    "print(arr8)"
   ]
  },
  {
   "cell_type": "markdown",
   "id": "1573967c-0a41-4b73-9da8-66ef3f8025e1",
   "metadata": {},
   "source": [
    "#Complex Numbers"
   ]
  },
  {
   "cell_type": "code",
   "execution_count": 24,
   "id": "2c9cbb91-8f6f-4be1-a9e7-9355f25b4299",
   "metadata": {},
   "outputs": [
    {
     "name": "stdout",
     "output_type": "stream",
     "text": [
      "[1.+2.j 3.+4.j 5.+6.j]\n"
     ]
    }
   ],
   "source": [
    "arr = np.array([1 + 2j, 3 + 4j, 5 + 6j], dtype='complex128')\n",
    "print(arr)"
   ]
  },
  {
   "cell_type": "markdown",
   "id": "e830482e-6f09-454a-bf69-eacdca5bb871",
   "metadata": {},
   "source": [
    "#Object Data Type"
   ]
  },
  {
   "cell_type": "code",
   "execution_count": 27,
   "id": "e4267921-f6ae-4b9a-ba05-337dd0e6a0e3",
   "metadata": {},
   "outputs": [
    {
     "name": "stdout",
     "output_type": "stream",
     "text": [
      "[{'a': 1} list([1, 2, 3]) 'hello']\n"
     ]
    }
   ],
   "source": [
    "arr = np.array([{'a': 1}, [1, 2, 3], 'hello'], dtype=object)\n",
    "print(arr)"
   ]
  }
 ],
 "metadata": {
  "kernelspec": {
   "display_name": "Python [conda env:base] *",
   "language": "python",
   "name": "conda-base-py"
  },
  "language_info": {
   "codemirror_mode": {
    "name": "ipython",
    "version": 3
   },
   "file_extension": ".py",
   "mimetype": "text/x-python",
   "name": "python",
   "nbconvert_exporter": "python",
   "pygments_lexer": "ipython3",
   "version": "3.12.4"
  }
 },
 "nbformat": 4,
 "nbformat_minor": 5
}
