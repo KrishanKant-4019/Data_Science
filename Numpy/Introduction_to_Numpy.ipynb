{
 "cells": [
  {
   "cell_type": "code",
   "execution_count": 9,
   "id": "a77e2712-b2b1-43e1-b509-f8c0e6908496",
   "metadata": {},
   "outputs": [
    {
     "data": {
      "text/plain": [
       "[(1, 4), (2, 5), (3, 6), (4, 7)]"
      ]
     },
     "execution_count": 9,
     "metadata": {},
     "output_type": "execute_result"
    }
   ],
   "source": [
    "#Python Zip\n",
    "list1=[1,2,3,4]\n",
    "list2=[4,5,6,7]\n",
    "list(zip(list1,list2))"
   ]
  },
  {
   "cell_type": "markdown",
   "id": "630d9ccc-5db0-4a90-84c4-10377d09f3dd",
   "metadata": {},
   "source": [
    "#Python list vs Numpy array(Speed Testing)"
   ]
  },
  {
   "cell_type": "code",
   "execution_count": 1,
   "id": "9e5151a1-61e6-47c3-b8a6-b7ea1c64fa50",
   "metadata": {},
   "outputs": [
    {
     "name": "stdout",
     "output_type": "stream",
     "text": [
      "[0, 2, 4, 6, 8, 10, 12, 14, 16, 18]\n",
      "Python list addition time: 1.7898330688476562\n"
     ]
    }
   ],
   "source": [
    "import numpy as np\n",
    "import time\n",
    "\n",
    "size=10_000_000\n",
    "\n",
    "# Python_List\n",
    "list1=list(range(size))\n",
    "list2=list(range(size))\n",
    "\n",
    "start=time.time()\n",
    "result=[x+y for x,y in zip(list1,list2)]\n",
    "print(result[0:10])\n",
    "end=time.time()\n",
    "print(\"Python list addition time:\",end-start)"
   ]
  },
  {
   "cell_type": "code",
   "execution_count": 2,
   "id": "a98e5b3a-bcec-44f8-ad17-04a71356b922",
   "metadata": {},
   "outputs": [
    {
     "name": "stdout",
     "output_type": "stream",
     "text": [
      "Numpy array addition time: 0.1851048469543457\n"
     ]
    }
   ],
   "source": [
    "size=10_000_000\n",
    "\n",
    "#Numpy_Array\n",
    "arr1=np.array(list1)\n",
    "arr2=np.array(list2)\n",
    "\n",
    "start=time.time()\n",
    "result=arr1+arr2 #vectorized operation\n",
    "end=time.time()\n",
    "print(\"Numpy array addition time:\",end-start)"
   ]
  },
  {
   "cell_type": "markdown",
   "id": "11b9d68b-b738-4daf-81a7-efc4cbad2da4",
   "metadata": {},
   "source": [
    "#Creating Numpy Arrays"
   ]
  },
  {
   "cell_type": "code",
   "execution_count": 4,
   "id": "d4b7ea0c-51cb-45b3-9942-fb77bde9d5ac",
   "metadata": {},
   "outputs": [
    {
     "name": "stdout",
     "output_type": "stream",
     "text": [
      "The 1-D Array is: [1 2 3 4 5]\n",
      "The 2-D Array is: [[1 2 3]\n",
      " [4 5 6]]\n",
      "Type: <class 'numpy.ndarray'>\n",
      "Shape: (2, 3)\n"
     ]
    }
   ],
   "source": [
    "#Creating a 1-D Array \n",
    "arr1=np.array([1,2,3,4,5])\n",
    "print(\"The 1-D Array is:\",arr1)\n",
    "\n",
    "#Creating a 2-D Array\n",
    "arr2 = np.array([[1,2,3],[4,5,6]])  \n",
    "print(\"The 2-D Array is:\",arr2)\n",
    "\n",
    "#Checking type and shape\n",
    "print(\"Type:\",type(arr1))\n",
    "print(\"Shape:\",arr2.shape)"
   ]
  },
  {
   "cell_type": "markdown",
   "id": "7eed15a1-b5c3-4208-b12c-3e01cf25e2fb",
   "metadata": {},
   "source": [
    "#Memory Efficiency->Numpy vs lists"
   ]
  },
  {
   "cell_type": "code",
   "execution_count": 5,
   "id": "b46ee742-c375-4c50-b563-67e4fdc0b1d3",
   "metadata": {},
   "outputs": [
    {
     "name": "stdout",
     "output_type": "stream",
     "text": [
      "Python list size: 8056000 bytes\n",
      "Numpy array size: 4000 bytes\n"
     ]
    }
   ],
   "source": [
    "import sys\n",
    "\n",
    "list_data=list(range(1000))\n",
    "numpy_data=np.array(list_data)\n",
    "\n",
    "print(\"Python list size:\",sys.getsizeof(list_data)*len(list_data),\"bytes\")\n",
    "print(\"Numpy array size:\",numpy_data.nbytes,\"bytes\")"
   ]
  },
  {
   "cell_type": "markdown",
   "id": "070421bf-4404-4818-9d8d-f74f061683a9",
   "metadata": {},
   "source": [
    "#Vectorization"
   ]
  },
  {
   "cell_type": "code",
   "execution_count": 7,
   "id": "144657d3-7f6f-4ba4-aecd-9c75039183e8",
   "metadata": {},
   "outputs": [
    {
     "name": "stdout",
     "output_type": "stream",
     "text": [
      "The squares of list is: [4, 16, 36, 64]\n",
      "Python list operation time is: 0.0\n",
      "The squares of numpy array is: [ 1  9 25 49]\n",
      "Numpy operation time is: 0.0004172325134277344\n"
     ]
    }
   ],
   "source": [
    "# Python list (list-Comprehension)\n",
    "import time\n",
    "list1=[2,4,6,8]\n",
    "start=time.time()\n",
    "list_squares = [x ** 2 for x in list1]\n",
    "end=time.time()\n",
    "print(\"The squares of list is:\",list_squares)\n",
    "print(\"Python list operation time is:\",end-start)\n",
    "\n",
    "# NumPy (vectorized)\n",
    "arr1=np.array([1,3,5,7])\n",
    "start=time.time()\n",
    "numpy_squares = arr1 ** 2\n",
    "end=time.time()\n",
    "print(\"The squares of numpy array is:\",numpy_squares)\n",
    "print(\"Numpy operation time is:\",end-start)"
   ]
  },
  {
   "cell_type": "code",
   "execution_count": null,
   "id": "586f8a3b-6722-4053-ac46-0aa64a2562a6",
   "metadata": {},
   "outputs": [],
   "source": []
  }
 ],
 "metadata": {
  "kernelspec": {
   "display_name": "Python [conda env:base] *",
   "language": "python",
   "name": "conda-base-py"
  },
  "language_info": {
   "codemirror_mode": {
    "name": "ipython",
    "version": 3
   },
   "file_extension": ".py",
   "mimetype": "text/x-python",
   "name": "python",
   "nbconvert_exporter": "python",
   "pygments_lexer": "ipython3",
   "version": "3.12.4"
  }
 },
 "nbformat": 4,
 "nbformat_minor": 5
}
